{
  "cells": [
    {
      "cell_type": "markdown",
      "id": "cad1d650",
      "metadata": {
        "id": "cad1d650"
      },
      "source": [
        "### Loading the required libraries"
      ]
    },
    {
      "cell_type": "code",
      "execution_count": 1,
      "id": "6ea52bc6",
      "metadata": {
        "id": "6ea52bc6"
      },
      "outputs": [],
      "source": [
        "import numpy as np\n",
        "import pandas as pd\n",
        "import seaborn as sns\n",
        "import matplotlib.pyplot as plt"
      ]
    },
    {
      "cell_type": "markdown",
      "id": "04f0dc1c",
      "metadata": {
        "id": "04f0dc1c"
      },
      "source": [
        "### Loading the Data"
      ]
    },
    {
      "cell_type": "code",
      "execution_count": 2,
      "id": "b8e4abd9",
      "metadata": {
        "id": "b8e4abd9"
      },
      "outputs": [],
      "source": [
        "df = pd.read_csv(\"insurance_dataset_capstone.csv\")"
      ]
    },
    {
      "cell_type": "code",
      "execution_count": 3,
      "id": "8fb8d293",
      "metadata": {
        "colab": {
          "base_uri": "https://localhost:8080/",
          "height": 206
        },
        "id": "8fb8d293",
        "outputId": "299046bd-1986-4e54-aff2-22efb6d19e2c"
      },
      "outputs": [
        {
          "output_type": "execute_result",
          "data": {
            "text/plain": [
              "    age     sex     bmi  children smoker     region      charges\n",
              "0  19.0  female  27.900       0.0    yes  southwest  16884.92400\n",
              "1  18.0    male  33.770       1.0     no  southeast   1725.55230\n",
              "2  28.0    male  33.000       3.0     no  southeast   4449.46200\n",
              "3  33.0    male  22.705       0.0     no  northwest  21984.47061\n",
              "4  32.0    male  28.880       0.0     no  northwest   3866.85520"
            ],
            "text/html": [
              "\n",
              "  <div id=\"df-939e4240-9204-41f8-a463-d16a8c3acd3a\">\n",
              "    <div class=\"colab-df-container\">\n",
              "      <div>\n",
              "<style scoped>\n",
              "    .dataframe tbody tr th:only-of-type {\n",
              "        vertical-align: middle;\n",
              "    }\n",
              "\n",
              "    .dataframe tbody tr th {\n",
              "        vertical-align: top;\n",
              "    }\n",
              "\n",
              "    .dataframe thead th {\n",
              "        text-align: right;\n",
              "    }\n",
              "</style>\n",
              "<table border=\"1\" class=\"dataframe\">\n",
              "  <thead>\n",
              "    <tr style=\"text-align: right;\">\n",
              "      <th></th>\n",
              "      <th>age</th>\n",
              "      <th>sex</th>\n",
              "      <th>bmi</th>\n",
              "      <th>children</th>\n",
              "      <th>smoker</th>\n",
              "      <th>region</th>\n",
              "      <th>charges</th>\n",
              "    </tr>\n",
              "  </thead>\n",
              "  <tbody>\n",
              "    <tr>\n",
              "      <th>0</th>\n",
              "      <td>19.0</td>\n",
              "      <td>female</td>\n",
              "      <td>27.900</td>\n",
              "      <td>0.0</td>\n",
              "      <td>yes</td>\n",
              "      <td>southwest</td>\n",
              "      <td>16884.92400</td>\n",
              "    </tr>\n",
              "    <tr>\n",
              "      <th>1</th>\n",
              "      <td>18.0</td>\n",
              "      <td>male</td>\n",
              "      <td>33.770</td>\n",
              "      <td>1.0</td>\n",
              "      <td>no</td>\n",
              "      <td>southeast</td>\n",
              "      <td>1725.55230</td>\n",
              "    </tr>\n",
              "    <tr>\n",
              "      <th>2</th>\n",
              "      <td>28.0</td>\n",
              "      <td>male</td>\n",
              "      <td>33.000</td>\n",
              "      <td>3.0</td>\n",
              "      <td>no</td>\n",
              "      <td>southeast</td>\n",
              "      <td>4449.46200</td>\n",
              "    </tr>\n",
              "    <tr>\n",
              "      <th>3</th>\n",
              "      <td>33.0</td>\n",
              "      <td>male</td>\n",
              "      <td>22.705</td>\n",
              "      <td>0.0</td>\n",
              "      <td>no</td>\n",
              "      <td>northwest</td>\n",
              "      <td>21984.47061</td>\n",
              "    </tr>\n",
              "    <tr>\n",
              "      <th>4</th>\n",
              "      <td>32.0</td>\n",
              "      <td>male</td>\n",
              "      <td>28.880</td>\n",
              "      <td>0.0</td>\n",
              "      <td>no</td>\n",
              "      <td>northwest</td>\n",
              "      <td>3866.85520</td>\n",
              "    </tr>\n",
              "  </tbody>\n",
              "</table>\n",
              "</div>\n",
              "      <button class=\"colab-df-convert\" onclick=\"convertToInteractive('df-939e4240-9204-41f8-a463-d16a8c3acd3a')\"\n",
              "              title=\"Convert this dataframe to an interactive table.\"\n",
              "              style=\"display:none;\">\n",
              "        \n",
              "  <svg xmlns=\"http://www.w3.org/2000/svg\" height=\"24px\"viewBox=\"0 0 24 24\"\n",
              "       width=\"24px\">\n",
              "    <path d=\"M0 0h24v24H0V0z\" fill=\"none\"/>\n",
              "    <path d=\"M18.56 5.44l.94 2.06.94-2.06 2.06-.94-2.06-.94-.94-2.06-.94 2.06-2.06.94zm-11 1L8.5 8.5l.94-2.06 2.06-.94-2.06-.94L8.5 2.5l-.94 2.06-2.06.94zm10 10l.94 2.06.94-2.06 2.06-.94-2.06-.94-.94-2.06-.94 2.06-2.06.94z\"/><path d=\"M17.41 7.96l-1.37-1.37c-.4-.4-.92-.59-1.43-.59-.52 0-1.04.2-1.43.59L10.3 9.45l-7.72 7.72c-.78.78-.78 2.05 0 2.83L4 21.41c.39.39.9.59 1.41.59.51 0 1.02-.2 1.41-.59l7.78-7.78 2.81-2.81c.8-.78.8-2.07 0-2.86zM5.41 20L4 18.59l7.72-7.72 1.47 1.35L5.41 20z\"/>\n",
              "  </svg>\n",
              "      </button>\n",
              "      \n",
              "  <style>\n",
              "    .colab-df-container {\n",
              "      display:flex;\n",
              "      flex-wrap:wrap;\n",
              "      gap: 12px;\n",
              "    }\n",
              "\n",
              "    .colab-df-convert {\n",
              "      background-color: #E8F0FE;\n",
              "      border: none;\n",
              "      border-radius: 50%;\n",
              "      cursor: pointer;\n",
              "      display: none;\n",
              "      fill: #1967D2;\n",
              "      height: 32px;\n",
              "      padding: 0 0 0 0;\n",
              "      width: 32px;\n",
              "    }\n",
              "\n",
              "    .colab-df-convert:hover {\n",
              "      background-color: #E2EBFA;\n",
              "      box-shadow: 0px 1px 2px rgba(60, 64, 67, 0.3), 0px 1px 3px 1px rgba(60, 64, 67, 0.15);\n",
              "      fill: #174EA6;\n",
              "    }\n",
              "\n",
              "    [theme=dark] .colab-df-convert {\n",
              "      background-color: #3B4455;\n",
              "      fill: #D2E3FC;\n",
              "    }\n",
              "\n",
              "    [theme=dark] .colab-df-convert:hover {\n",
              "      background-color: #434B5C;\n",
              "      box-shadow: 0px 1px 3px 1px rgba(0, 0, 0, 0.15);\n",
              "      filter: drop-shadow(0px 1px 2px rgba(0, 0, 0, 0.3));\n",
              "      fill: #FFFFFF;\n",
              "    }\n",
              "  </style>\n",
              "\n",
              "      <script>\n",
              "        const buttonEl =\n",
              "          document.querySelector('#df-939e4240-9204-41f8-a463-d16a8c3acd3a button.colab-df-convert');\n",
              "        buttonEl.style.display =\n",
              "          google.colab.kernel.accessAllowed ? 'block' : 'none';\n",
              "\n",
              "        async function convertToInteractive(key) {\n",
              "          const element = document.querySelector('#df-939e4240-9204-41f8-a463-d16a8c3acd3a');\n",
              "          const dataTable =\n",
              "            await google.colab.kernel.invokeFunction('convertToInteractive',\n",
              "                                                     [key], {});\n",
              "          if (!dataTable) return;\n",
              "\n",
              "          const docLinkHtml = 'Like what you see? Visit the ' +\n",
              "            '<a target=\"_blank\" href=https://colab.research.google.com/notebooks/data_table.ipynb>data table notebook</a>'\n",
              "            + ' to learn more about interactive tables.';\n",
              "          element.innerHTML = '';\n",
              "          dataTable['output_type'] = 'display_data';\n",
              "          await google.colab.output.renderOutput(dataTable, element);\n",
              "          const docLink = document.createElement('div');\n",
              "          docLink.innerHTML = docLinkHtml;\n",
              "          element.appendChild(docLink);\n",
              "        }\n",
              "      </script>\n",
              "    </div>\n",
              "  </div>\n",
              "  "
            ]
          },
          "metadata": {},
          "execution_count": 3
        }
      ],
      "source": [
        "df.head()"
      ]
    },
    {
      "cell_type": "markdown",
      "id": "16e985b6",
      "metadata": {
        "id": "16e985b6"
      },
      "source": [
        "### Checking for null values and handling them (if any)"
      ]
    },
    {
      "cell_type": "code",
      "execution_count": 4,
      "id": "97ac354a",
      "metadata": {
        "colab": {
          "base_uri": "https://localhost:8080/"
        },
        "id": "97ac354a",
        "outputId": "1a420a16-824d-4d59-8cde-ca3193c1305c"
      },
      "outputs": [
        {
          "output_type": "execute_result",
          "data": {
            "text/plain": [
              "age         6\n",
              "sex         1\n",
              "bmi         1\n",
              "children    1\n",
              "smoker      1\n",
              "region      1\n",
              "charges     1\n",
              "dtype: int64"
            ]
          },
          "metadata": {},
          "execution_count": 4
        }
      ],
      "source": [
        "# Checking for missing values\n",
        "df.isna().sum()"
      ]
    },
    {
      "cell_type": "markdown",
      "id": "f77fbb57",
      "metadata": {
        "id": "f77fbb57"
      },
      "source": [
        "Age had the most number of missing values (6), with the other columns having just one missing value. Since the missing values are not much, records with missing values will be dropped"
      ]
    },
    {
      "cell_type": "code",
      "execution_count": 5,
      "id": "eaf7587c",
      "metadata": {
        "id": "eaf7587c"
      },
      "outputs": [],
      "source": [
        "# Dropping all records with missing values\n",
        "df.dropna(inplace=True)"
      ]
    },
    {
      "cell_type": "code",
      "execution_count": 6,
      "id": "5b40e1f1",
      "metadata": {
        "colab": {
          "base_uri": "https://localhost:8080/"
        },
        "id": "5b40e1f1",
        "outputId": "3b22e81f-a9ae-4a23-c1b8-2225c60d6bbc"
      },
      "outputs": [
        {
          "output_type": "execute_result",
          "data": {
            "text/plain": [
              "age         0\n",
              "sex         0\n",
              "bmi         0\n",
              "children    0\n",
              "smoker      0\n",
              "region      0\n",
              "charges     0\n",
              "dtype: int64"
            ]
          },
          "metadata": {},
          "execution_count": 6
        }
      ],
      "source": [
        "# Confirming if all missing vales have been removed\n",
        "df.isna().sum()"
      ]
    },
    {
      "cell_type": "markdown",
      "id": "ca13b819",
      "metadata": {
        "id": "ca13b819"
      },
      "source": [
        "\n",
        "### Checking for duplicates and removing them (if any)"
      ]
    },
    {
      "cell_type": "code",
      "execution_count": 7,
      "id": "5bcb9dfa",
      "metadata": {
        "colab": {
          "base_uri": "https://localhost:8080/"
        },
        "id": "5bcb9dfa",
        "outputId": "b63fa4e0-3466-47c5-d5e9-0104ebda8601"
      },
      "outputs": [
        {
          "output_type": "execute_result",
          "data": {
            "text/plain": [
              "1"
            ]
          },
          "metadata": {},
          "execution_count": 7
        }
      ],
      "source": [
        "# Checking for duplicate records\n",
        "df.duplicated().sum()"
      ]
    },
    {
      "cell_type": "markdown",
      "id": "d86c36df",
      "metadata": {
        "id": "d86c36df"
      },
      "source": [
        "One duplicate record was found"
      ]
    },
    {
      "cell_type": "code",
      "execution_count": 8,
      "id": "3e53c923",
      "metadata": {
        "id": "3e53c923"
      },
      "outputs": [],
      "source": [
        "# Removing the duplicate record\n",
        "df.drop_duplicates(inplace = True)"
      ]
    },
    {
      "cell_type": "code",
      "execution_count": 9,
      "id": "63ea8092",
      "metadata": {
        "colab": {
          "base_uri": "https://localhost:8080/"
        },
        "id": "63ea8092",
        "outputId": "2dc7c0dd-872f-4df3-f5d7-6cb1a885ddd1"
      },
      "outputs": [
        {
          "output_type": "execute_result",
          "data": {
            "text/plain": [
              "0"
            ]
          },
          "metadata": {},
          "execution_count": 9
        }
      ],
      "source": [
        "# Confirming if the duplicate has been removed\n",
        "df.duplicated().sum()"
      ]
    },
    {
      "cell_type": "markdown",
      "id": "c9b0acd0",
      "metadata": {
        "id": "c9b0acd0"
      },
      "source": [
        "### Checking and Removing Outliers(if any)"
      ]
    },
    {
      "cell_type": "code",
      "execution_count": 10,
      "id": "d8788873",
      "metadata": {
        "colab": {
          "base_uri": "https://localhost:8080/",
          "height": 467
        },
        "id": "d8788873",
        "outputId": "907a1421-39ed-46ee-a646-e097daba29be"
      },
      "outputs": [
        {
          "output_type": "display_data",
          "data": {
            "text/plain": [
              "<Figure size 640x480 with 1 Axes>"
            ],
            "image/png": "[encoded data removed]"
          },
          "metadata": {}
        },
        {
          "output_type": "display_data",
          "data": {
            "text/plain": [
              "<Figure size 640x480 with 0 Axes>"
            ]
          },
          "metadata": {}
        }
      ],
      "source": [
        "# Checking for outliers\n",
        "sns.boxplot(data=df, x= \"age\")\n",
        "plt.show()\n",
        "plt.clf()"
      ]
    },
    {
      "cell_type": "markdown",
      "id": "568a9449",
      "metadata": {
        "id": "568a9449"
      },
      "source": [
        "There were no outliers for Age"
      ]
    },
    {
      "cell_type": "code",
      "execution_count": 11,
      "id": "cf400489",
      "metadata": {
        "colab": {
          "base_uri": "https://localhost:8080/",
          "height": 467
        },
        "id": "cf400489",
        "outputId": "4e0360a2-0c79-48f3-cda2-76c919cb1376"
      },
      "outputs": [
        {
          "output_type": "display_data",
          "data": {
            "text/plain": [
              "<Figure size 640x480 with 1 Axes>"
            ],
            "image/png": "[encoded data removed]"
          },
          "metadata": {}
        },
        {
          "output_type": "display_data",
          "data": {
            "text/plain": [
              "<Figure size 640x480 with 0 Axes>"
            ]
          },
          "metadata": {}
        }
      ],
      "source": [
        "# Checking for outliers\n",
        "sns.boxplot(data=df, x= \"bmi\")\n",
        "plt.show()\n",
        "plt.clf()"
      ]
    },
    {
      "cell_type": "markdown",
      "id": "2ca4b1ca",
      "metadata": {
        "id": "2ca4b1ca"
      },
      "source": [
        "Outliers were observed for BMI."
      ]
    },
    {
      "cell_type": "code",
      "execution_count": 12,
      "id": "3fde39de",
      "metadata": {
        "colab": {
          "base_uri": "https://localhost:8080/",
          "height": 467
        },
        "id": "3fde39de",
        "outputId": "39c87345-b3dc-4d8b-a46b-75744234b300"
      },
      "outputs": [
        {
          "output_type": "display_data",
          "data": {
            "text/plain": [
              "<Figure size 640x480 with 1 Axes>"
            ],
            "image/png": "[encoded data removed]"
          },
          "metadata": {}
        },
        {
          "output_type": "display_data",
          "data": {
            "text/plain": [
              "<Figure size 640x480 with 0 Axes>"
            ]
          },
          "metadata": {}
        }
      ],
      "source": [
        "# Checking for outliers\n",
        "sns.boxplot(data=df, x= \"charges\")\n",
        "plt.xlabel(\"Charges\")\n",
        "plt.show()\n",
        "plt.clf()"
      ]
    },
    {
      "cell_type": "markdown",
      "id": "94bbfee4",
      "metadata": {
        "id": "94bbfee4"
      },
      "source": [
        "Outliers were observed for Charges"
      ]
    },
    {
      "cell_type": "code",
      "execution_count": 13,
      "id": "6e807d29",
      "metadata": {
        "id": "6e807d29"
      },
      "outputs": [],
      "source": [
        "\"All outliers observed were on above the upper limit for outliers\"\n",
        "\n",
        "# Defining a function for calculating the upper limit for outliers\n",
        "def outlier_upper_limit(asdf):\n",
        "    q = list(asdf.quantile([0.25,0.75]))\n",
        "    z = q[1] + 1.5 * (q[1]-q[0])\n",
        "    return z\n"
      ]
    },
    {
      "cell_type": "code",
      "execution_count": 14,
      "id": "8f16f9b2",
      "metadata": {
        "id": "8f16f9b2"
      },
      "outputs": [],
      "source": [
        "# Removing outliers of Charges\n",
        "df2 = df[df[\"charges\"] < outlier_upper_limit(df[\"charges\"])]\n",
        "\n",
        "# Removing outliers of BMI\n",
        "df2 = df2[df2[\"bmi\"] < outlier_upper_limit(df[\"bmi\"])]"
      ]
    },
    {
      "cell_type": "markdown",
      "id": "7984e172",
      "metadata": {
        "id": "7984e172"
      },
      "source": [
        "### Correlation between numerical variables shown by a heat map"
      ]
    },
    {
      "cell_type": "code",
      "execution_count": 15,
      "id": "62126d79",
      "metadata": {
        "colab": {
          "base_uri": "https://localhost:8080/",
          "height": 602
        },
        "id": "62126d79",
        "outputId": "8c820c1b-8201-4de2-a275-a8099f14b46e"
      },
      "outputs": [
        {
          "output_type": "stream",
          "name": "stderr",
          "text": [
            "<ipython-input-15-f3ead13cffb9>:3: FutureWarning: The default value of numeric_only in DataFrame.corr is deprecated. In a future version, it will default to False. Select only valid columns or specify the value of numeric_only to silence this warning.\n",
            "  sns.heatmap(data=df2.corr(), annot=True,\n"
          ]
        },
        {
          "output_type": "display_data",
          "data": {
            "text/plain": [
              "<Figure size 800x600 with 2 Axes>"
            ],
            "image/png": "[encoded data removed]"
          },
          "metadata": {}
        }
      ],
      "source": [
        "# Plotting the Correlation between numerical variables\n",
        "plt.figure(figsize=(8,6))\n",
        "sns.heatmap(data=df2.corr(), annot=True,\n",
        "                center=0,\n",
        "                cmap='viridis',\n",
        "                square = True,\n",
        "                linewidth = 0.1,\n",
        "                linecolor = \"#222\")\n",
        "plt.title(\"Linear Correlation between Age, Children, BMI and Charges\")\n",
        "plt.show()"
      ]
    },
    {
      "cell_type": "markdown",
      "id": "0ca66b4a",
      "metadata": {
        "id": "0ca66b4a"
      },
      "source": [
        "Only age has a strong positive correlation with Charges. Children and BMI have no linear relationship with neither Charges, Age nor with each other."
      ]
    },
    {
      "cell_type": "markdown",
      "id": "64af076d",
      "metadata": {
        "id": "64af076d"
      },
      "source": [
        "### Scatter plot showing the relationship between Age, Charges and Smoker"
      ]
    },
    {
      "cell_type": "code",
      "execution_count": 16,
      "id": "b569e63e",
      "metadata": {
        "colab": {
          "base_uri": "https://localhost:8080/",
          "height": 564
        },
        "id": "b569e63e",
        "outputId": "bce6b3d1-3f64-42eb-f2cf-4191fecc369e"
      },
      "outputs": [
        {
          "output_type": "display_data",
          "data": {
            "text/plain": [
              "<Figure size 800x600 with 1 Axes>"
            ],
            "image/png": "[encoded data removed]"
          },
          "metadata": {}
        }
      ],
      "source": [
        "# PLOTTING THE RELATIONSHIP BETWEEN BMI, AGE AND SEX\n",
        "plt.figure(figsize=(8,6))\n",
        "ax = sns.scatterplot(data=df2, x=\"age\", y=\"charges\", hue=\"smoker\")\n",
        "ax.set_title(\"Relationship between Age, Charges and Smoker\")\n",
        "ax.set_xlabel(\"Age\")\n",
        "ax.set_ylabel(\"Charges\")\n",
        "plt.show()"
      ]
    },
    {
      "cell_type": "markdown",
      "id": "68c06b3e",
      "metadata": {
        "id": "68c06b3e"
      },
      "source": [
        "There is Positive correlation between Age and Charges. It can also be observed that non-smokers have lower charges, While smokers have a relatively higher Charges."
      ]
    },
    {
      "cell_type": "markdown",
      "id": "3a89bc92",
      "metadata": {
        "id": "3a89bc92"
      },
      "source": [
        "### Encoding categorical variables"
      ]
    },
    {
      "cell_type": "code",
      "execution_count": 17,
      "id": "d23fb3ca",
      "metadata": {
        "id": "d23fb3ca"
      },
      "outputs": [],
      "source": [
        "# using cat.codes to encode the categorical variables\n",
        "df2[[\"sex\", \"smoker\", \"region\"]] = df2[[\"sex\", \"smoker\", \"region\"]].astype(\"category\")\n",
        "df2[\"sex\"] = df2[\"sex\"].cat.codes\n",
        "df2[\"smoker\"] = df2[\"smoker\"].cat.codes\n",
        "df2[\"region\"] = df2[\"region\"].cat.codes"
      ]
    },
    {
      "cell_type": "code",
      "execution_count": 18,
      "id": "98a07841",
      "metadata": {
        "id": "98a07841"
      },
      "outputs": [],
      "source": [
        "# Identifying the codes and their corresponding value\n",
        "df5 = df.copy()\n",
        "df5[[\"sex\", \"smoker\", \"region\"]] = df5[[\"sex\", \"smoker\", \"region\"]].astype('category')\n",
        "SEX  = dict(enumerate(df5[\"sex\"].cat.categories))\n",
        "SMOKER = dict(enumerate(df5[\"smoker\"].cat.categories))\n",
        "REGION  = dict(enumerate(df5[\"region\"].cat.categories))"
      ]
    },
    {
      "cell_type": "code",
      "execution_count": 19,
      "id": "e72834d6",
      "metadata": {
        "colab": {
          "base_uri": "https://localhost:8080/"
        },
        "id": "e72834d6",
        "outputId": "490cb9c1-fc78-453c-ee24-1af399c358e5"
      },
      "outputs": [
        {
          "output_type": "execute_result",
          "data": {
            "text/plain": [
              "{0: 'female', 1: 'male'}"
            ]
          },
          "metadata": {},
          "execution_count": 19
        }
      ],
      "source": [
        "SEX"
      ]
    },
    {
      "cell_type": "code",
      "execution_count": 20,
      "id": "a9c16d50",
      "metadata": {
        "colab": {
          "base_uri": "https://localhost:8080/"
        },
        "id": "a9c16d50",
        "outputId": "1d766b7f-1964-4dce-8a69-56d5b6cd9130"
      },
      "outputs": [
        {
          "output_type": "execute_result",
          "data": {
            "text/plain": [
              "{0: 'no', 1: 'yes'}"
            ]
          },
          "metadata": {},
          "execution_count": 20
        }
      ],
      "source": [
        "SMOKER"
      ]
    },
    {
      "cell_type": "code",
      "execution_count": 21,
      "id": "dcd89c45",
      "metadata": {
        "colab": {
          "base_uri": "https://localhost:8080/"
        },
        "id": "dcd89c45",
        "outputId": "26070176-e9f4-4802-a7ca-f0b2dcccb7cc"
      },
      "outputs": [
        {
          "output_type": "execute_result",
          "data": {
            "text/plain": [
              "{0: 'northeast', 1: 'northwest', 2: 'southeast', 3: 'southwest'}"
            ]
          },
          "metadata": {},
          "execution_count": 21
        }
      ],
      "source": [
        "REGION"
      ]
    },
    {
      "cell_type": "markdown",
      "id": "890ef836",
      "metadata": {
        "id": "890ef836"
      },
      "source": [
        "## SECTION 5\n",
        "\n",
        "### Feature Selection using ANOVA selection method"
      ]
    },
    {
      "cell_type": "code",
      "execution_count": 22,
      "id": "b09fa961",
      "metadata": {
        "colab": {
          "base_uri": "https://localhost:8080/",
          "height": 206
        },
        "id": "b09fa961",
        "outputId": "3f1114e8-3925-4214-a570-f45d32163d7d"
      },
      "outputs": [
        {
          "output_type": "execute_result",
          "data": {
            "text/plain": [
              "    age  sex     bmi  children  smoker  region      charges\n",
              "0  19.0    0  27.900       0.0       1       3  16884.92400\n",
              "1  18.0    1  33.770       1.0       0       2   1725.55230\n",
              "2  28.0    1  33.000       3.0       0       2   4449.46200\n",
              "3  33.0    1  22.705       0.0       0       1  21984.47061\n",
              "4  32.0    1  28.880       0.0       0       1   3866.85520"
            ],
            "text/html": [
              "\n",
              "  <div id=\"df-a137e2e3-c9de-438d-ae2d-2cfdbd049ece\">\n",
              "    <div class=\"colab-df-container\">\n",
              "      <div>\n",
              "<style scoped>\n",
              "    .dataframe tbody tr th:only-of-type {\n",
              "        vertical-align: middle;\n",
              "    }\n",
              "\n",
              "    .dataframe tbody tr th {\n",
              "        vertical-align: top;\n",
              "    }\n",
              "\n",
              "    .dataframe thead th {\n",
              "        text-align: right;\n",
              "    }\n",
              "</style>\n",
              "<table border=\"1\" class=\"dataframe\">\n",
              "  <thead>\n",
              "    <tr style=\"text-align: right;\">\n",
              "      <th></th>\n",
              "      <th>age</th>\n",
              "      <th>sex</th>\n",
              "      <th>bmi</th>\n",
              "      <th>children</th>\n",
              "      <th>smoker</th>\n",
              "      <th>region</th>\n",
              "      <th>charges</th>\n",
              "    </tr>\n",
              "  </thead>\n",
              "  <tbody>\n",
              "    <tr>\n",
              "      <th>0</th>\n",
              "      <td>19.0</td>\n",
              "      <td>0</td>\n",
              "      <td>27.900</td>\n",
              "      <td>0.0</td>\n",
              "      <td>1</td>\n",
              "      <td>3</td>\n",
              "      <td>16884.92400</td>\n",
              "    </tr>\n",
              "    <tr>\n",
              "      <th>1</th>\n",
              "      <td>18.0</td>\n",
              "      <td>1</td>\n",
              "      <td>33.770</td>\n",
              "      <td>1.0</td>\n",
              "      <td>0</td>\n",
              "      <td>2</td>\n",
              "      <td>1725.55230</td>\n",
              "    </tr>\n",
              "    <tr>\n",
              "      <th>2</th>\n",
              "      <td>28.0</td>\n",
              "      <td>1</td>\n",
              "      <td>33.000</td>\n",
              "      <td>3.0</td>\n",
              "      <td>0</td>\n",
              "      <td>2</td>\n",
              "      <td>4449.46200</td>\n",
              "    </tr>\n",
              "    <tr>\n",
              "      <th>3</th>\n",
              "      <td>33.0</td>\n",
              "      <td>1</td>\n",
              "      <td>22.705</td>\n",
              "      <td>0.0</td>\n",
              "      <td>0</td>\n",
              "      <td>1</td>\n",
              "      <td>21984.47061</td>\n",
              "    </tr>\n",
              "    <tr>\n",
              "      <th>4</th>\n",
              "      <td>32.0</td>\n",
              "      <td>1</td>\n",
              "      <td>28.880</td>\n",
              "      <td>0.0</td>\n",
              "      <td>0</td>\n",
              "      <td>1</td>\n",
              "      <td>3866.85520</td>\n",
              "    </tr>\n",
              "  </tbody>\n",
              "</table>\n",
              "</div>\n",
              "      <button class=\"colab-df-convert\" onclick=\"convertToInteractive('df-a137e2e3-c9de-438d-ae2d-2cfdbd049ece')\"\n",
              "              title=\"Convert this dataframe to an interactive table.\"\n",
              "              style=\"display:none;\">\n",
              "        \n",
              "  <svg xmlns=\"http://www.w3.org/2000/svg\" height=\"24px\"viewBox=\"0 0 24 24\"\n",
              "       width=\"24px\">\n",
              "    <path d=\"M0 0h24v24H0V0z\" fill=\"none\"/>\n",
              "    <path d=\"M18.56 5.44l.94 2.06.94-2.06 2.06-.94-2.06-.94-.94-2.06-.94 2.06-2.06.94zm-11 1L8.5 8.5l.94-2.06 2.06-.94-2.06-.94L8.5 2.5l-.94 2.06-2.06.94zm10 10l.94 2.06.94-2.06 2.06-.94-2.06-.94-.94-2.06-.94 2.06-2.06.94z\"/><path d=\"M17.41 7.96l-1.37-1.37c-.4-.4-.92-.59-1.43-.59-.52 0-1.04.2-1.43.59L10.3 9.45l-7.72 7.72c-.78.78-.78 2.05 0 2.83L4 21.41c.39.39.9.59 1.41.59.51 0 1.02-.2 1.41-.59l7.78-7.78 2.81-2.81c.8-.78.8-2.07 0-2.86zM5.41 20L4 18.59l7.72-7.72 1.47 1.35L5.41 20z\"/>\n",
              "  </svg>\n",
              "      </button>\n",
              "      \n",
              "  <style>\n",
              "    .colab-df-container {\n",
              "      display:flex;\n",
              "      flex-wrap:wrap;\n",
              "      gap: 12px;\n",
              "    }\n",
              "\n",
              "    .colab-df-convert {\n",
              "      background-color: #E8F0FE;\n",
              "      border: none;\n",
              "      border-radius: 50%;\n",
              "      cursor: pointer;\n",
              "      display: none;\n",
              "      fill: #1967D2;\n",
              "      height: 32px;\n",
              "      padding: 0 0 0 0;\n",
              "      width: 32px;\n",
              "    }\n",
              "\n",
              "    .colab-df-convert:hover {\n",
              "      background-color: #E2EBFA;\n",
              "      box-shadow: 0px 1px 2px rgba(60, 64, 67, 0.3), 0px 1px 3px 1px rgba(60, 64, 67, 0.15);\n",
              "      fill: #174EA6;\n",
              "    }\n",
              "\n",
              "    [theme=dark] .colab-df-convert {\n",
              "      background-color: #3B4455;\n",
              "      fill: #D2E3FC;\n",
              "    }\n",
              "\n",
              "    [theme=dark] .colab-df-convert:hover {\n",
              "      background-color: #434B5C;\n",
              "      box-shadow: 0px 1px 3px 1px rgba(0, 0, 0, 0.15);\n",
              "      filter: drop-shadow(0px 1px 2px rgba(0, 0, 0, 0.3));\n",
              "      fill: #FFFFFF;\n",
              "    }\n",
              "  </style>\n",
              "\n",
              "      <script>\n",
              "        const buttonEl =\n",
              "          document.querySelector('#df-a137e2e3-c9de-438d-ae2d-2cfdbd049ece button.colab-df-convert');\n",
              "        buttonEl.style.display =\n",
              "          google.colab.kernel.accessAllowed ? 'block' : 'none';\n",
              "\n",
              "        async function convertToInteractive(key) {\n",
              "          const element = document.querySelector('#df-a137e2e3-c9de-438d-ae2d-2cfdbd049ece');\n",
              "          const dataTable =\n",
              "            await google.colab.kernel.invokeFunction('convertToInteractive',\n",
              "                                                     [key], {});\n",
              "          if (!dataTable) return;\n",
              "\n",
              "          const docLinkHtml = 'Like what you see? Visit the ' +\n",
              "            '<a target=\"_blank\" href=https://colab.research.google.com/notebooks/data_table.ipynb>data table notebook</a>'\n",
              "            + ' to learn more about interactive tables.';\n",
              "          element.innerHTML = '';\n",
              "          dataTable['output_type'] = 'display_data';\n",
              "          await google.colab.output.renderOutput(dataTable, element);\n",
              "          const docLink = document.createElement('div');\n",
              "          docLink.innerHTML = docLinkHtml;\n",
              "          element.appendChild(docLink);\n",
              "        }\n",
              "      </script>\n",
              "    </div>\n",
              "  </div>\n",
              "  "
            ]
          },
          "metadata": {},
          "execution_count": 22
        }
      ],
      "source": [
        "df2.head()"
      ]
    },
    {
      "cell_type": "code",
      "execution_count": 30,
      "id": "2818ae28",
      "metadata": {
        "id": "2818ae28"
      },
      "outputs": [],
      "source": [
        "# Subsetting the Target Variable\n",
        "target_variable = df2[\"smoker\"]\n",
        "\n",
        "# Subsetting the other variables Bar Charges\n",
        "predictor_variable= df2.drop([\"smoker\"], axis=1)\n",
        "\n",
        "# Using ANOVA Method to select features\n",
        "# Importing the libraries need for the feature selection\n",
        "from sklearn.feature_selection import f_regression, SelectKBest\n",
        "\n",
        "# Using SelectKBest to pick the best 4 features\n",
        "ads = SelectKBest(score_func=f_regression, k=4)\n",
        "\n",
        "# Determining the F1 Scores\n",
        "asd_fit = ads.fit(predictor_variable,target_variable)"
      ]
    },
    {
      "cell_type": "code",
      "execution_count": 31,
      "id": "45235347",
      "metadata": {
        "id": "45235347"
      },
      "outputs": [],
      "source": [
        "# Saving the F1 Scores in a DataFrame\n",
        "features_score = pd.DataFrame(asd_fit.scores_)\n",
        "features = pd.DataFrame(predictor_variable.columns)\n",
        "Feature_score = pd.concat([features, features_score], axis=1)\n",
        "Feature_score.columns = [\"Features\", \"F_Score\"]"
      ]
    },
    {
      "cell_type": "code",
      "execution_count": 32,
      "id": "268613da",
      "metadata": {
        "colab": {
          "base_uri": "https://localhost:8080/",
          "height": 237
        },
        "id": "268613da",
        "outputId": "454701c2-3040-4a46-bdf7-1ee50948fa4f"
      },
      "outputs": [
        {
          "output_type": "execute_result",
          "data": {
            "text/plain": [
              "   Features     F_Score\n",
              "5   charges  653.933074\n",
              "2       bmi   85.483907\n",
              "0       age    5.189198\n",
              "4    region    2.443362\n",
              "1       sex    0.154697\n",
              "3  children    0.038591"
            ],
            "text/html": [
              "\n",
              "  <div id=\"df-63db8013-cba0-46ce-a447-ae3e1581a12e\">\n",
              "    <div class=\"colab-df-container\">\n",
              "      <div>\n",
              "<style scoped>\n",
              "    .dataframe tbody tr th:only-of-type {\n",
              "        vertical-align: middle;\n",
              "    }\n",
              "\n",
              "    .dataframe tbody tr th {\n",
              "        vertical-align: top;\n",
              "    }\n",
              "\n",
              "    .dataframe thead th {\n",
              "        text-align: right;\n",
              "    }\n",
              "</style>\n",
              "<table border=\"1\" class=\"dataframe\">\n",
              "  <thead>\n",
              "    <tr style=\"text-align: right;\">\n",
              "      <th></th>\n",
              "      <th>Features</th>\n",
              "      <th>F_Score</th>\n",
              "    </tr>\n",
              "  </thead>\n",
              "  <tbody>\n",
              "    <tr>\n",
              "      <th>5</th>\n",
              "      <td>charges</td>\n",
              "      <td>653.933074</td>\n",
              "    </tr>\n",
              "    <tr>\n",
              "      <th>2</th>\n",
              "      <td>bmi</td>\n",
              "      <td>85.483907</td>\n",
              "    </tr>\n",
              "    <tr>\n",
              "      <th>0</th>\n",
              "      <td>age</td>\n",
              "      <td>5.189198</td>\n",
              "    </tr>\n",
              "    <tr>\n",
              "      <th>4</th>\n",
              "      <td>region</td>\n",
              "      <td>2.443362</td>\n",
              "    </tr>\n",
              "    <tr>\n",
              "      <th>1</th>\n",
              "      <td>sex</td>\n",
              "      <td>0.154697</td>\n",
              "    </tr>\n",
              "    <tr>\n",
              "      <th>3</th>\n",
              "      <td>children</td>\n",
              "      <td>0.038591</td>\n",
              "    </tr>\n",
              "  </tbody>\n",
              "</table>\n",
              "</div>\n",
              "      <button class=\"colab-df-convert\" onclick=\"convertToInteractive('df-63db8013-cba0-46ce-a447-ae3e1581a12e')\"\n",
              "              title=\"Convert this dataframe to an interactive table.\"\n",
              "              style=\"display:none;\">\n",
              "        \n",
              "  <svg xmlns=\"http://www.w3.org/2000/svg\" height=\"24px\"viewBox=\"0 0 24 24\"\n",
              "       width=\"24px\">\n",
              "    <path d=\"M0 0h24v24H0V0z\" fill=\"none\"/>\n",
              "    <path d=\"M18.56 5.44l.94 2.06.94-2.06 2.06-.94-2.06-.94-.94-2.06-.94 2.06-2.06.94zm-11 1L8.5 8.5l.94-2.06 2.06-.94-2.06-.94L8.5 2.5l-.94 2.06-2.06.94zm10 10l.94 2.06.94-2.06 2.06-.94-2.06-.94-.94-2.06-.94 2.06-2.06.94z\"/><path d=\"M17.41 7.96l-1.37-1.37c-.4-.4-.92-.59-1.43-.59-.52 0-1.04.2-1.43.59L10.3 9.45l-7.72 7.72c-.78.78-.78 2.05 0 2.83L4 21.41c.39.39.9.59 1.41.59.51 0 1.02-.2 1.41-.59l7.78-7.78 2.81-2.81c.8-.78.8-2.07 0-2.86zM5.41 20L4 18.59l7.72-7.72 1.47 1.35L5.41 20z\"/>\n",
              "  </svg>\n",
              "      </button>\n",
              "      \n",
              "  <style>\n",
              "    .colab-df-container {\n",
              "      display:flex;\n",
              "      flex-wrap:wrap;\n",
              "      gap: 12px;\n",
              "    }\n",
              "\n",
              "    .colab-df-convert {\n",
              "      background-color: #E8F0FE;\n",
              "      border: none;\n",
              "      border-radius: 50%;\n",
              "      cursor: pointer;\n",
              "      display: none;\n",
              "      fill: #1967D2;\n",
              "      height: 32px;\n",
              "      padding: 0 0 0 0;\n",
              "      width: 32px;\n",
              "    }\n",
              "\n",
              "    .colab-df-convert:hover {\n",
              "      background-color: #E2EBFA;\n",
              "      box-shadow: 0px 1px 2px rgba(60, 64, 67, 0.3), 0px 1px 3px 1px rgba(60, 64, 67, 0.15);\n",
              "      fill: #174EA6;\n",
              "    }\n",
              "\n",
              "    [theme=dark] .colab-df-convert {\n",
              "      background-color: #3B4455;\n",
              "      fill: #D2E3FC;\n",
              "    }\n",
              "\n",
              "    [theme=dark] .colab-df-convert:hover {\n",
              "      background-color: #434B5C;\n",
              "      box-shadow: 0px 1px 3px 1px rgba(0, 0, 0, 0.15);\n",
              "      filter: drop-shadow(0px 1px 2px rgba(0, 0, 0, 0.3));\n",
              "      fill: #FFFFFF;\n",
              "    }\n",
              "  </style>\n",
              "\n",
              "      <script>\n",
              "        const buttonEl =\n",
              "          document.querySelector('#df-63db8013-cba0-46ce-a447-ae3e1581a12e button.colab-df-convert');\n",
              "        buttonEl.style.display =\n",
              "          google.colab.kernel.accessAllowed ? 'block' : 'none';\n",
              "\n",
              "        async function convertToInteractive(key) {\n",
              "          const element = document.querySelector('#df-63db8013-cba0-46ce-a447-ae3e1581a12e');\n",
              "          const dataTable =\n",
              "            await google.colab.kernel.invokeFunction('convertToInteractive',\n",
              "                                                     [key], {});\n",
              "          if (!dataTable) return;\n",
              "\n",
              "          const docLinkHtml = 'Like what you see? Visit the ' +\n",
              "            '<a target=\"_blank\" href=https://colab.research.google.com/notebooks/data_table.ipynb>data table notebook</a>'\n",
              "            + ' to learn more about interactive tables.';\n",
              "          element.innerHTML = '';\n",
              "          dataTable['output_type'] = 'display_data';\n",
              "          await google.colab.output.renderOutput(dataTable, element);\n",
              "          const docLink = document.createElement('div');\n",
              "          docLink.innerHTML = docLinkHtml;\n",
              "          element.appendChild(docLink);\n",
              "        }\n",
              "      </script>\n",
              "    </div>\n",
              "  </div>\n",
              "  "
            ]
          },
          "metadata": {},
          "execution_count": 32
        }
      ],
      "source": [
        "Feature_score.sort_values(by=\"F_Score\", ascending= False)"
      ]
    },
    {
      "cell_type": "markdown",
      "id": "97ecdd8e",
      "metadata": {
        "id": "97ecdd8e"
      },
      "source": [
        "The best 4 features are smoker, Age, region and Children. Hence BMI and Sex will be dropped."
      ]
    },
    {
      "cell_type": "code",
      "execution_count": 33,
      "id": "5d20e753",
      "metadata": {
        "id": "5d20e753"
      },
      "outputs": [],
      "source": [
        "final_data = df2.drop([\"children\", \"sex\"], axis=1)"
      ]
    },
    {
      "cell_type": "code",
      "execution_count": 34,
      "id": "f498dad9",
      "metadata": {
        "colab": {
          "base_uri": "https://localhost:8080/",
          "height": 206
        },
        "id": "f498dad9",
        "outputId": "8d5e4cf2-e8a1-4b90-8db6-0e157cb4de77"
      },
      "outputs": [
        {
          "output_type": "execute_result",
          "data": {
            "text/plain": [
              "    age     bmi  smoker  region      charges\n",
              "0  19.0  27.900       1       3  16884.92400\n",
              "1  18.0  33.770       0       2   1725.55230\n",
              "2  28.0  33.000       0       2   4449.46200\n",
              "3  33.0  22.705       0       1  21984.47061\n",
              "4  32.0  28.880       0       1   3866.85520"
            ],
            "text/html": [
              "\n",
              "  <div id=\"df-6db16c62-4f01-478e-bdf0-1ac155933974\">\n",
              "    <div class=\"colab-df-container\">\n",
              "      <div>\n",
              "<style scoped>\n",
              "    .dataframe tbody tr th:only-of-type {\n",
              "        vertical-align: middle;\n",
              "    }\n",
              "\n",
              "    .dataframe tbody tr th {\n",
              "        vertical-align: top;\n",
              "    }\n",
              "\n",
              "    .dataframe thead th {\n",
              "        text-align: right;\n",
              "    }\n",
              "</style>\n",
              "<table border=\"1\" class=\"dataframe\">\n",
              "  <thead>\n",
              "    <tr style=\"text-align: right;\">\n",
              "      <th></th>\n",
              "      <th>age</th>\n",
              "      <th>bmi</th>\n",
              "      <th>smoker</th>\n",
              "      <th>region</th>\n",
              "      <th>charges</th>\n",
              "    </tr>\n",
              "  </thead>\n",
              "  <tbody>\n",
              "    <tr>\n",
              "      <th>0</th>\n",
              "      <td>19.0</td>\n",
              "      <td>27.900</td>\n",
              "      <td>1</td>\n",
              "      <td>3</td>\n",
              "      <td>16884.92400</td>\n",
              "    </tr>\n",
              "    <tr>\n",
              "      <th>1</th>\n",
              "      <td>18.0</td>\n",
              "      <td>33.770</td>\n",
              "      <td>0</td>\n",
              "      <td>2</td>\n",
              "      <td>1725.55230</td>\n",
              "    </tr>\n",
              "    <tr>\n",
              "      <th>2</th>\n",
              "      <td>28.0</td>\n",
              "      <td>33.000</td>\n",
              "      <td>0</td>\n",
              "      <td>2</td>\n",
              "      <td>4449.46200</td>\n",
              "    </tr>\n",
              "    <tr>\n",
              "      <th>3</th>\n",
              "      <td>33.0</td>\n",
              "      <td>22.705</td>\n",
              "      <td>0</td>\n",
              "      <td>1</td>\n",
              "      <td>21984.47061</td>\n",
              "    </tr>\n",
              "    <tr>\n",
              "      <th>4</th>\n",
              "      <td>32.0</td>\n",
              "      <td>28.880</td>\n",
              "      <td>0</td>\n",
              "      <td>1</td>\n",
              "      <td>3866.85520</td>\n",
              "    </tr>\n",
              "  </tbody>\n",
              "</table>\n",
              "</div>\n",
              "      <button class=\"colab-df-convert\" onclick=\"convertToInteractive('df-6db16c62-4f01-478e-bdf0-1ac155933974')\"\n",
              "              title=\"Convert this dataframe to an interactive table.\"\n",
              "              style=\"display:none;\">\n",
              "        \n",
              "  <svg xmlns=\"http://www.w3.org/2000/svg\" height=\"24px\"viewBox=\"0 0 24 24\"\n",
              "       width=\"24px\">\n",
              "    <path d=\"M0 0h24v24H0V0z\" fill=\"none\"/>\n",
              "    <path d=\"M18.56 5.44l.94 2.06.94-2.06 2.06-.94-2.06-.94-.94-2.06-.94 2.06-2.06.94zm-11 1L8.5 8.5l.94-2.06 2.06-.94-2.06-.94L8.5 2.5l-.94 2.06-2.06.94zm10 10l.94 2.06.94-2.06 2.06-.94-2.06-.94-.94-2.06-.94 2.06-2.06.94z\"/><path d=\"M17.41 7.96l-1.37-1.37c-.4-.4-.92-.59-1.43-.59-.52 0-1.04.2-1.43.59L10.3 9.45l-7.72 7.72c-.78.78-.78 2.05 0 2.83L4 21.41c.39.39.9.59 1.41.59.51 0 1.02-.2 1.41-.59l7.78-7.78 2.81-2.81c.8-.78.8-2.07 0-2.86zM5.41 20L4 18.59l7.72-7.72 1.47 1.35L5.41 20z\"/>\n",
              "  </svg>\n",
              "      </button>\n",
              "      \n",
              "  <style>\n",
              "    .colab-df-container {\n",
              "      display:flex;\n",
              "      flex-wrap:wrap;\n",
              "      gap: 12px;\n",
              "    }\n",
              "\n",
              "    .colab-df-convert {\n",
              "      background-color: #E8F0FE;\n",
              "      border: none;\n",
              "      border-radius: 50%;\n",
              "      cursor: pointer;\n",
              "      display: none;\n",
              "      fill: #1967D2;\n",
              "      height: 32px;\n",
              "      padding: 0 0 0 0;\n",
              "      width: 32px;\n",
              "    }\n",
              "\n",
              "    .colab-df-convert:hover {\n",
              "      background-color: #E2EBFA;\n",
              "      box-shadow: 0px 1px 2px rgba(60, 64, 67, 0.3), 0px 1px 3px 1px rgba(60, 64, 67, 0.15);\n",
              "      fill: #174EA6;\n",
              "    }\n",
              "\n",
              "    [theme=dark] .colab-df-convert {\n",
              "      background-color: #3B4455;\n",
              "      fill: #D2E3FC;\n",
              "    }\n",
              "\n",
              "    [theme=dark] .colab-df-convert:hover {\n",
              "      background-color: #434B5C;\n",
              "      box-shadow: 0px 1px 3px 1px rgba(0, 0, 0, 0.15);\n",
              "      filter: drop-shadow(0px 1px 2px rgba(0, 0, 0, 0.3));\n",
              "      fill: #FFFFFF;\n",
              "    }\n",
              "  </style>\n",
              "\n",
              "      <script>\n",
              "        const buttonEl =\n",
              "          document.querySelector('#df-6db16c62-4f01-478e-bdf0-1ac155933974 button.colab-df-convert');\n",
              "        buttonEl.style.display =\n",
              "          google.colab.kernel.accessAllowed ? 'block' : 'none';\n",
              "\n",
              "        async function convertToInteractive(key) {\n",
              "          const element = document.querySelector('#df-6db16c62-4f01-478e-bdf0-1ac155933974');\n",
              "          const dataTable =\n",
              "            await google.colab.kernel.invokeFunction('convertToInteractive',\n",
              "                                                     [key], {});\n",
              "          if (!dataTable) return;\n",
              "\n",
              "          const docLinkHtml = 'Like what you see? Visit the ' +\n",
              "            '<a target=\"_blank\" href=https://colab.research.google.com/notebooks/data_table.ipynb>data table notebook</a>'\n",
              "            + ' to learn more about interactive tables.';\n",
              "          element.innerHTML = '';\n",
              "          dataTable['output_type'] = 'display_data';\n",
              "          await google.colab.output.renderOutput(dataTable, element);\n",
              "          const docLink = document.createElement('div');\n",
              "          docLink.innerHTML = docLinkHtml;\n",
              "          element.appendChild(docLink);\n",
              "        }\n",
              "      </script>\n",
              "    </div>\n",
              "  </div>\n",
              "  "
            ]
          },
          "metadata": {},
          "execution_count": 34
        }
      ],
      "source": [
        "final_data.head()"
      ]
    },
    {
      "cell_type": "markdown",
      "source": [
        "# PART 1\n",
        "\n",
        "## CLASSIFICATION PROBLEM"
      ],
      "metadata": {
        "id": "XyYLn24enEIk"
      },
      "id": "XyYLn24enEIk"
    },
    {
      "cell_type": "code",
      "source": [
        "target_variable = final_data.smoker.values\n",
        "Predictor_variable = final_data.drop([\"smoker\"], axis=1)"
      ],
      "metadata": {
        "id": "43IpceOcpq9Y"
      },
      "id": "43IpceOcpq9Y",
      "execution_count": 35,
      "outputs": []
    },
    {
      "cell_type": "markdown",
      "source": [
        "### TASK 1"
      ],
      "metadata": {
        "id": "TPuPGjCSn6fE"
      },
      "id": "TPuPGjCSn6fE"
    },
    {
      "cell_type": "code",
      "source": [
        "from sklearn.model_selection import train_test_split\n",
        "\n",
        "# Split the dataset into training and test sets\n",
        "X_train, X_test, y_train, y_test = train_test_split(Predictor_variable, target_variable, test_size=0.3, random_state=42)\n"
      ],
      "metadata": {
        "id": "_XNF_Nckm8UT"
      },
      "id": "_XNF_Nckm8UT",
      "execution_count": 38,
      "outputs": []
    },
    {
      "cell_type": "markdown",
      "source": [
        "### TASK 2"
      ],
      "metadata": {
        "id": "WouwdBjtqWCz"
      },
      "id": "WouwdBjtqWCz"
    },
    {
      "cell_type": "markdown",
      "source": [
        "#### LOGISTIC REGRESSION"
      ],
      "metadata": {
        "id": "MPZlkIn6skwe"
      },
      "id": "MPZlkIn6skwe"
    },
    {
      "cell_type": "code",
      "source": [
        "# LOGISTIC REGRESSION\n",
        "\n",
        "from sklearn.linear_model import LogisticRegression\n",
        "from sklearn.metrics import accuracy_score, precision_score, recall_score, f1_score, roc_auc_score\n",
        "\n",
        "# Create a logistic regression model\n",
        "logistic_model = LogisticRegression()\n",
        "\n",
        "# Train the model on the training data\n",
        "logistic_model.fit(X_train, y_train)\n",
        "\n",
        "# Make predictions on the test data\n",
        "y_pred = logistic_model.predict(X_test)\n",
        "\n",
        "# Calculate evaluation metrics\n",
        "accuracy = accuracy_score(y_test, y_pred)\n",
        "precision = precision_score(y_test, y_pred)\n",
        "recall = recall_score(y_test, y_pred)\n",
        "f1 = f1_score(y_test, y_pred)\n",
        "roc_auc = roc_auc_score(y_test, y_pred)\n",
        "\n",
        "# Print the evaluation metrics\n",
        "print(\"Accuracy:\", accuracy)\n",
        "print(\"Precision:\", precision)\n",
        "print(\"Recall:\", recall)\n",
        "print(\"F1-Score:\", f1)\n",
        "print(\"ROC AUC:\", roc_auc)\n",
        "\n"
      ],
      "metadata": {
        "colab": {
          "base_uri": "https://localhost:8080/"
        },
        "id": "JGw2_eSZqGrZ",
        "outputId": "1c387bde-cd8d-4cf4-94ca-6629a7566195"
      },
      "id": "JGw2_eSZqGrZ",
      "execution_count": 40,
      "outputs": [
        {
          "output_type": "stream",
          "name": "stdout",
          "text": [
            "Accuracy: 0.9157303370786517\n",
            "Precision: 0.6346153846153846\n",
            "Recall: 0.75\n",
            "F1-Score: 0.6875\n",
            "ROC AUC: 0.844551282051282\n"
          ]
        }
      ]
    },
    {
      "cell_type": "markdown",
      "source": [
        "#### SVC MODEL"
      ],
      "metadata": {
        "id": "LLJJQDYXsr6E"
      },
      "id": "LLJJQDYXsr6E"
    },
    {
      "cell_type": "code",
      "source": [
        "from sklearn.svm import SVC\n",
        "from sklearn.metrics import accuracy_score, precision_score, recall_score, f1_score, roc_auc_score\n",
        "\n",
        "# Create an SVC model\n",
        "svc_model = SVC()\n",
        "\n",
        "# Train the model on the training data\n",
        "svc_model.fit(X_train, y_train)\n",
        "\n",
        "# Make predictions on the test data\n",
        "y_pred = svc_model.predict(X_test)\n",
        "\n",
        "# Calculate evaluation metrics\n",
        "accuracy = accuracy_score(y_test, y_pred)\n",
        "precision = precision_score(y_test, y_pred)\n",
        "recall = recall_score(y_test, y_pred)\n",
        "f1 = f1_score(y_test, y_pred)\n",
        "roc_auc = roc_auc_score(y_test, y_pred)\n",
        "\n",
        "# Print the evaluation metrics\n",
        "print(\"Accuracy:\", accuracy)\n",
        "print(\"Precision:\", precision)\n",
        "print(\"Recall:\", recall)\n",
        "print(\"F1-Score:\", f1)\n",
        "print(\"ROC AUC:\", roc_auc)\n"
      ],
      "metadata": {
        "colab": {
          "base_uri": "https://localhost:8080/"
        },
        "id": "Y6eRgYdpq2vy",
        "outputId": "1e6618d7-734d-42b4-92ee-fdea0f841f7e"
      },
      "id": "Y6eRgYdpq2vy",
      "execution_count": 41,
      "outputs": [
        {
          "output_type": "stream",
          "name": "stdout",
          "text": [
            "Accuracy: 0.8960674157303371\n",
            "Precision: 0.5573770491803278\n",
            "Recall: 0.7727272727272727\n",
            "F1-Score: 0.6476190476190475\n",
            "ROC AUC: 0.8430944055944055\n"
          ]
        }
      ]
    },
    {
      "cell_type": "markdown",
      "source": [
        "#### DECISION TREE CLASSIFIER"
      ],
      "metadata": {
        "id": "KL7j70SBsxQ8"
      },
      "id": "KL7j70SBsxQ8"
    },
    {
      "cell_type": "code",
      "source": [
        "from sklearn.tree import DecisionTreeClassifier\n",
        "from sklearn.metrics import accuracy_score, precision_score, recall_score, f1_score, roc_auc_score\n",
        "\n",
        "# Create a Decision Tree Classifier\n",
        "dt_classifier = DecisionTreeClassifier()\n",
        "\n",
        "# Train the classifier on the training data\n",
        "dt_classifier.fit(X_train, y_train)\n",
        "\n",
        "# Make predictions on the test data\n",
        "y_pred = dt_classifier.predict(X_test)\n",
        "\n",
        "# Calculate evaluation metrics\n",
        "accuracy = accuracy_score(y_test, y_pred)\n",
        "precision = precision_score(y_test, y_pred)\n",
        "recall = recall_score(y_test, y_pred)\n",
        "f1 = f1_score(y_test, y_pred)\n",
        "roc_auc = roc_auc_score(y_test, y_pred)\n",
        "\n",
        "# Print the evaluation metrics\n",
        "print(\"Accuracy:\", accuracy)\n",
        "print(\"Precision:\", precision)\n",
        "print(\"Recall:\", recall)\n",
        "print(\"F1-Score:\", f1)\n",
        "print(\"ROC AUC:\", roc_auc)\n"
      ],
      "metadata": {
        "colab": {
          "base_uri": "https://localhost:8080/"
        },
        "id": "lp-0XXtJrxQ8",
        "outputId": "aa9416cb-df47-4f2d-e799-1d319e720078"
      },
      "id": "lp-0XXtJrxQ8",
      "execution_count": 42,
      "outputs": [
        {
          "output_type": "stream",
          "name": "stdout",
          "text": [
            "Accuracy: 0.949438202247191\n",
            "Precision: 0.76\n",
            "Recall: 0.8636363636363636\n",
            "F1-Score: 0.8085106382978724\n",
            "ROC AUC: 0.9125874125874126\n"
          ]
        }
      ]
    },
    {
      "cell_type": "markdown",
      "source": [
        "#### KNeighbors Classifier"
      ],
      "metadata": {
        "id": "Wjxdrecqs9UR"
      },
      "id": "Wjxdrecqs9UR"
    },
    {
      "cell_type": "code",
      "source": [
        "from sklearn.neighbors import KNeighborsClassifier\n",
        "from sklearn.metrics import accuracy_score, precision_score, recall_score, f1_score, roc_auc_score\n",
        "\n",
        "# Create a k-Nearest Neighbors Classifier\n",
        "knn_classifier = KNeighborsClassifier()\n",
        "\n",
        "# Train the classifier on the training data\n",
        "knn_classifier.fit(X_train, y_train)\n",
        "\n",
        "# Make predictions on the test data\n",
        "y_pred = knn_classifier.predict(X_test)\n",
        "\n",
        "# Calculate evaluation metrics\n",
        "accuracy = accuracy_score(y_test, y_pred)\n",
        "precision = precision_score(y_test, y_pred)\n",
        "recall = recall_score(y_test, y_pred)\n",
        "f1 = f1_score(y_test, y_pred)\n",
        "roc_auc = roc_auc_score(y_test, y_pred)\n",
        "\n",
        "# Print the evaluation metrics\n",
        "print(\"Accuracy:\", accuracy)\n",
        "print(\"Precision:\", precision)\n",
        "print(\"Recall:\", recall)\n",
        "print(\"F1-Score:\", f1)\n",
        "print(\"ROC AUC:\", roc_auc)\n"
      ],
      "metadata": {
        "colab": {
          "base_uri": "https://localhost:8080/"
        },
        "id": "bR4AaRBor6Yd",
        "outputId": "8ead8a04-a22b-4927-9798-22a1cf45faab"
      },
      "id": "bR4AaRBor6Yd",
      "execution_count": 43,
      "outputs": [
        {
          "output_type": "stream",
          "name": "stdout",
          "text": [
            "Accuracy: 0.898876404494382\n",
            "Precision: 0.5740740740740741\n",
            "Recall: 0.7045454545454546\n",
            "F1-Score: 0.6326530612244898\n",
            "ROC AUC: 0.815413752913753\n"
          ]
        }
      ]
    },
    {
      "cell_type": "markdown",
      "source": [
        "#### Random Forest Classifier"
      ],
      "metadata": {
        "id": "7rVuBuHKtJn4"
      },
      "id": "7rVuBuHKtJn4"
    },
    {
      "cell_type": "code",
      "source": [
        "from sklearn.ensemble import RandomForestClassifier\n",
        "from sklearn.metrics import accuracy_score, precision_score, recall_score, f1_score, roc_auc_score\n",
        "\n",
        "# Create a Random Forest Classifier\n",
        "rf_classifier = RandomForestClassifier()\n",
        "\n",
        "# Train the classifier on the training data\n",
        "rf_classifier.fit(X_train, y_train)\n",
        "\n",
        "# Make predictions on the test data\n",
        "y_pred = rf_classifier.predict(X_test)\n",
        "\n",
        "# Calculate evaluation metrics\n",
        "accuracy = accuracy_score(y_test, y_pred)\n",
        "precision = precision_score(y_test, y_pred)\n",
        "recall = recall_score(y_test, y_pred)\n",
        "f1 = f1_score(y_test, y_pred)\n",
        "roc_auc = roc_auc_score(y_test, y_pred)\n",
        "\n",
        "# Print the evaluation metrics\n",
        "print(\"Accuracy:\", accuracy)\n",
        "print(\"Precision:\", precision)\n",
        "print(\"Recall:\", recall)\n",
        "print(\"F1-Score:\", f1)\n",
        "print(\"ROC AUC:\", roc_auc)\n"
      ],
      "metadata": {
        "colab": {
          "base_uri": "https://localhost:8080/"
        },
        "id": "3y5RybmesSNO",
        "outputId": "8aeaad6e-6790-411f-862b-31d6a42d0fe9"
      },
      "id": "3y5RybmesSNO",
      "execution_count": 44,
      "outputs": [
        {
          "output_type": "stream",
          "name": "stdout",
          "text": [
            "Accuracy: 0.9606741573033708\n",
            "Precision: 0.7884615384615384\n",
            "Recall: 0.9318181818181818\n",
            "F1-Score: 0.8541666666666667\n",
            "ROC AUC: 0.9482808857808858\n"
          ]
        }
      ]
    },
    {
      "cell_type": "markdown",
      "source": [
        "Amongst the Five models, the model developed using the Random Forest classifier has the highest accuracy or performance for all the evaluation metrics"
      ],
      "metadata": {
        "id": "2oF4G4jwvf0Z"
      },
      "id": "2oF4G4jwvf0Z"
    },
    {
      "cell_type": "markdown",
      "source": [
        "# PART 2"
      ],
      "metadata": {
        "id": "ybqVxgUyxgyE"
      },
      "id": "ybqVxgUyxgyE"
    },
    {
      "cell_type": "code",
      "source": [
        "import pandas as pd\n",
        "from sklearn.model_selection import GridSearchCV\n",
        "\n",
        "# Create an empty dataframe\n",
        "results_df = pd.DataFrame(columns=['Model Name', 'Best Score (Accuracy)', 'Best Parameter'])\n",
        "\n",
        "# Grid Search for Logistic Regression\n",
        "logistic_model = LogisticRegression()\n",
        "param_grid = {'C': [0.1, 1, 10]}\n",
        "grid_search = GridSearchCV(logistic_model, param_grid, cv=5)\n",
        "grid_search.fit(X_train, y_train)\n",
        "best_logistic_model = grid_search.best_estimator_\n",
        "accuracy_lr = best_logistic_model.score(X_test, y_test)\n",
        "results_df = results_df.append({'Model Name': 'Logistic Regression', 'Best Score (Accuracy)': accuracy_lr, 'Best Parameter': grid_search.best_params_}, ignore_index=True)\n",
        "\n",
        "# Grid Search for SVC\n",
        "svc_model = SVC()\n",
        "param_grid = {'C': [0.1, 1, 10], 'kernel': ['linear', 'rbf']}\n",
        "grid_search = GridSearchCV(svc_model, param_grid, cv=5)\n",
        "grid_search.fit(X_train, y_train)\n",
        "best_svc_model = grid_search.best_estimator_\n",
        "accuracy_svc = best_svc_model.score(X_test, y_test)\n",
        "results_df = results_df.append({'Model Name': 'SVC', 'Best Score (Accuracy)': accuracy_svc, 'Best Parameter': grid_search.best_params_}, ignore_index=True)\n",
        "\n",
        "# Grid Search for Decision Tree\n",
        "dt_classifier = DecisionTreeClassifier()\n",
        "param_grid = {'max_depth': [None, 5, 10]}\n",
        "grid_search = GridSearchCV(dt_classifier, param_grid, cv=5)\n",
        "grid_search.fit(X_train, y_train)\n",
        "best_dt_classifier = grid_search.best_estimator_\n",
        "accuracy_dt = best_dt_classifier.score(X_test, y_test)\n",
        "results_df = results_df.append({'Model Name': 'Decision Tree', 'Best Score (Accuracy)': accuracy_dt, 'Best Parameter': grid_search.best_params_}, ignore_index=True)\n",
        "\n",
        "# Grid Search for k-Nearest Neighbors\n",
        "knn_classifier = KNeighborsClassifier()\n",
        "param_grid = {'n_neighbors': [3, 5, 7]}\n",
        "grid_search = GridSearchCV(knn_classifier, param_grid, cv=5)\n",
        "grid_search.fit(X_train, y_train)\n",
        "best_knn_classifier = grid_search.best_estimator_\n",
        "accuracy_knn = best_knn_classifier.score(X_test, y_test)\n",
        "results_df = results_df.append({'Model Name': 'k-Nearest Neighbors', 'Best Score (Accuracy)': accuracy_knn, 'Best Parameter': grid_search.best_params_}, ignore_index=True)\n",
        "\n",
        "# Grid Search for Random Forest\n",
        "rf_classifier = RandomForestClassifier()\n",
        "param_grid = {'n_estimators': [50, 100, 150]}\n",
        "grid_search = GridSearchCV(rf_classifier, param_grid, cv=5)\n",
        "grid_search.fit(X_train, y_train)\n",
        "best_rf_classifier = grid_search.best_estimator_\n",
        "accuracy_rf = best_rf_classifier.score(X_test, y_test)\n",
        "results_df = results_df.append({'Model Name': 'Random Forest', 'Best Score (Accuracy)': accuracy_rf, 'Best Parameter': grid_search.best_params_}, ignore_index=True)\n"
      ],
      "metadata": {
        "id": "abuM1NhKsZ-v"
      },
      "id": "abuM1NhKsZ-v",
      "execution_count": null,
      "outputs": []
    },
    {
      "cell_type": "code",
      "source": [
        "results_df"
      ],
      "metadata": {
        "colab": {
          "base_uri": "https://localhost:8080/",
          "height": 206
        },
        "id": "FydNiVYkxnBS",
        "outputId": "7eb740b1-bd7a-476f-fc11-959ac4018568"
      },
      "id": "FydNiVYkxnBS",
      "execution_count": 47,
      "outputs": [
        {
          "output_type": "execute_result",
          "data": {
            "text/plain": [
              "            Model Name  Best Score (Accuracy)                  Best Parameter\n",
              "0  Logistic Regression               0.943820                      {'C': 0.1}\n",
              "1                  SVC               0.952247  {'C': 0.1, 'kernel': 'linear'}\n",
              "2        Decision Tree               0.949438             {'max_depth': None}\n",
              "3  k-Nearest Neighbors               0.898876              {'n_neighbors': 5}\n",
              "4        Random Forest               0.966292           {'n_estimators': 100}"
            ],
            "text/html": [
              "\n",
              "  <div id=\"df-2d256317-9fa2-4d1f-b101-8224148ccc9e\">\n",
              "    <div class=\"colab-df-container\">\n",
              "      <div>\n",
              "<style scoped>\n",
              "    .dataframe tbody tr th:only-of-type {\n",
              "        vertical-align: middle;\n",
              "    }\n",
              "\n",
              "    .dataframe tbody tr th {\n",
              "        vertical-align: top;\n",
              "    }\n",
              "\n",
              "    .dataframe thead th {\n",
              "        text-align: right;\n",
              "    }\n",
              "</style>\n",
              "<table border=\"1\" class=\"dataframe\">\n",
              "  <thead>\n",
              "    <tr style=\"text-align: right;\">\n",
              "      <th></th>\n",
              "      <th>Model Name</th>\n",
              "      <th>Best Score (Accuracy)</th>\n",
              "      <th>Best Parameter</th>\n",
              "    </tr>\n",
              "  </thead>\n",
              "  <tbody>\n",
              "    <tr>\n",
              "      <th>0</th>\n",
              "      <td>Logistic Regression</td>\n",
              "      <td>0.943820</td>\n",
              "      <td>{'C': 0.1}</td>\n",
              "    </tr>\n",
              "    <tr>\n",
              "      <th>1</th>\n",
              "      <td>SVC</td>\n",
              "      <td>0.952247</td>\n",
              "      <td>{'C': 0.1, 'kernel': 'linear'}</td>\n",
              "    </tr>\n",
              "    <tr>\n",
              "      <th>2</th>\n",
              "      <td>Decision Tree</td>\n",
              "      <td>0.949438</td>\n",
              "      <td>{'max_depth': None}</td>\n",
              "    </tr>\n",
              "    <tr>\n",
              "      <th>3</th>\n",
              "      <td>k-Nearest Neighbors</td>\n",
              "      <td>0.898876</td>\n",
              "      <td>{'n_neighbors': 5}</td>\n",
              "    </tr>\n",
              "    <tr>\n",
              "      <th>4</th>\n",
              "      <td>Random Forest</td>\n",
              "      <td>0.966292</td>\n",
              "      <td>{'n_estimators': 100}</td>\n",
              "    </tr>\n",
              "  </tbody>\n",
              "</table>\n",
              "</div>\n",
              "      <button class=\"colab-df-convert\" onclick=\"convertToInteractive('df-2d256317-9fa2-4d1f-b101-8224148ccc9e')\"\n",
              "              title=\"Convert this dataframe to an interactive table.\"\n",
              "              style=\"display:none;\">\n",
              "        \n",
              "  <svg xmlns=\"http://www.w3.org/2000/svg\" height=\"24px\"viewBox=\"0 0 24 24\"\n",
              "       width=\"24px\">\n",
              "    <path d=\"M0 0h24v24H0V0z\" fill=\"none\"/>\n",
              "    <path d=\"M18.56 5.44l.94 2.06.94-2.06 2.06-.94-2.06-.94-.94-2.06-.94 2.06-2.06.94zm-11 1L8.5 8.5l.94-2.06 2.06-.94-2.06-.94L8.5 2.5l-.94 2.06-2.06.94zm10 10l.94 2.06.94-2.06 2.06-.94-2.06-.94-.94-2.06-.94 2.06-2.06.94z\"/><path d=\"M17.41 7.96l-1.37-1.37c-.4-.4-.92-.59-1.43-.59-.52 0-1.04.2-1.43.59L10.3 9.45l-7.72 7.72c-.78.78-.78 2.05 0 2.83L4 21.41c.39.39.9.59 1.41.59.51 0 1.02-.2 1.41-.59l7.78-7.78 2.81-2.81c.8-.78.8-2.07 0-2.86zM5.41 20L4 18.59l7.72-7.72 1.47 1.35L5.41 20z\"/>\n",
              "  </svg>\n",
              "      </button>\n",
              "      \n",
              "  <style>\n",
              "    .colab-df-container {\n",
              "      display:flex;\n",
              "      flex-wrap:wrap;\n",
              "      gap: 12px;\n",
              "    }\n",
              "\n",
              "    .colab-df-convert {\n",
              "      background-color: #E8F0FE;\n",
              "      border: none;\n",
              "      border-radius: 50%;\n",
              "      cursor: pointer;\n",
              "      display: none;\n",
              "      fill: #1967D2;\n",
              "      height: 32px;\n",
              "      padding: 0 0 0 0;\n",
              "      width: 32px;\n",
              "    }\n",
              "\n",
              "    .colab-df-convert:hover {\n",
              "      background-color: #E2EBFA;\n",
              "      box-shadow: 0px 1px 2px rgba(60, 64, 67, 0.3), 0px 1px 3px 1px rgba(60, 64, 67, 0.15);\n",
              "      fill: #174EA6;\n",
              "    }\n",
              "\n",
              "    [theme=dark] .colab-df-convert {\n",
              "      background-color: #3B4455;\n",
              "      fill: #D2E3FC;\n",
              "    }\n",
              "\n",
              "    [theme=dark] .colab-df-convert:hover {\n",
              "      background-color: #434B5C;\n",
              "      box-shadow: 0px 1px 3px 1px rgba(0, 0, 0, 0.15);\n",
              "      filter: drop-shadow(0px 1px 2px rgba(0, 0, 0, 0.3));\n",
              "      fill: #FFFFFF;\n",
              "    }\n",
              "  </style>\n",
              "\n",
              "      <script>\n",
              "        const buttonEl =\n",
              "          document.querySelector('#df-2d256317-9fa2-4d1f-b101-8224148ccc9e button.colab-df-convert');\n",
              "        buttonEl.style.display =\n",
              "          google.colab.kernel.accessAllowed ? 'block' : 'none';\n",
              "\n",
              "        async function convertToInteractive(key) {\n",
              "          const element = document.querySelector('#df-2d256317-9fa2-4d1f-b101-8224148ccc9e');\n",
              "          const dataTable =\n",
              "            await google.colab.kernel.invokeFunction('convertToInteractive',\n",
              "                                                     [key], {});\n",
              "          if (!dataTable) return;\n",
              "\n",
              "          const docLinkHtml = 'Like what you see? Visit the ' +\n",
              "            '<a target=\"_blank\" href=https://colab.research.google.com/notebooks/data_table.ipynb>data table notebook</a>'\n",
              "            + ' to learn more about interactive tables.';\n",
              "          element.innerHTML = '';\n",
              "          dataTable['output_type'] = 'display_data';\n",
              "          await google.colab.output.renderOutput(dataTable, element);\n",
              "          const docLink = document.createElement('div');\n",
              "          docLink.innerHTML = docLinkHtml;\n",
              "          element.appendChild(docLink);\n",
              "        }\n",
              "      </script>\n",
              "    </div>\n",
              "  </div>\n",
              "  "
            ]
          },
          "metadata": {},
          "execution_count": 47
        }
      ]
    },
    {
      "cell_type": "markdown",
      "source": [
        "# TASK 3\n",
        "\n",
        "From task 1, it was observed that the model developed using the random forest was the best. it had the best score for all the evaluation metrics. from task 2, it was observed that the best parameter for the Random forest (number of estimators) was 100 (selected from 50, 100 and 150).\n",
        "\n",
        "Conclusively, Models developed using Random forest with the parameter n_estimators set to 100 is the best model for predicting is a client is a smoker or not."
      ],
      "metadata": {
        "id": "dO7UEccZ0Xnq"
      },
      "id": "dO7UEccZ0Xnq"
    },
    {
      "cell_type": "code",
      "source": [],
      "metadata": {
        "id": "rVLt72vzzRgc"
      },
      "id": "rVLt72vzzRgc",
      "execution_count": null,
      "outputs": []
    }
  ],
  "metadata": {
    "kernelspec": {
      "display_name": "Python 3 (ipykernel)",
      "language": "python",
      "name": "python3"
    },
    "language_info": {
      "codemirror_mode": {
        "name": "ipython",
        "version": 3
      },
      "file_extension": ".py",
      "mimetype": "text/x-python",
      "name": "python",
      "nbconvert_exporter": "python",
      "pygments_lexer": "ipython3",
      "version": "3.9.7"
    },
    "colab": {
      "provenance": []
    }
  },
  "nbformat": 4,
  "nbformat_minor": 5
}