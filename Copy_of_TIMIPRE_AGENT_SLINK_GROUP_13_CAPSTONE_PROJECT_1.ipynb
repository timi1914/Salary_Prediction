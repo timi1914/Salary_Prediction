{
  "cells": [
    {
      "cell_type": "markdown",
      "metadata": {
        "id": "view-in-github",
        "colab_type": "text"
      },
      "source": [
        "<a href=\"https://colab.research.google.com/github/timi1914/Salary_Prediction/blob/main/Copy_of_TIMIPRE_AGENT_SLINK_GROUP_13_CAPSTONE_PROJECT_1.ipynb\" target=\"_parent\"><img src=\"https://colab.research.google.com/assets/colab-badge.svg\" alt=\"Open In Colab\"/></a>"
      ]
    },
    {
      "cell_type": "markdown",
      "id": "cad1d650",
      "metadata": {
        "id": "cad1d650"
      },
      "source": [
        "### Loading the required libraries"
      ]
    },
    {
      "cell_type": "code",
      "execution_count": null,
      "id": "6ea52bc6",
      "metadata": {
        "id": "6ea52bc6"
      },
      "outputs": [],
      "source": [
        "import numpy as np\n",
        "import pandas as pd\n",
        "import seaborn as sns\n",
        "import matplotlib.pyplot as plt"
      ]
    },
    {
      "cell_type": "markdown",
      "id": "04f0dc1c",
      "metadata": {
        "id": "04f0dc1c"
      },
      "source": [
        "### Loading the Data"
      ]
    },
    {
      "cell_type": "code",
      "execution_count": null,
      "id": "b8e4abd9",
      "metadata": {
        "id": "b8e4abd9"
      },
      "outputs": [],
      "source": [
        "df = pd.read_csv(\"insurance_dataset_capstone.csv\")"
      ]
    },
    {
      "cell_type": "code",
      "execution_count": null,
      "id": "8fb8d293",
      "metadata": {
        "id": "8fb8d293",
        "outputId": "3f5f19cf-ee84-4b5b-e11a-e617d9ee71f3"
      },
      "outputs": [
        {
          "data": {
            "text/html": [
              "<div>\n",
              "<style scoped>\n",
              "    .dataframe tbody tr th:only-of-type {\n",
              "        vertical-align: middle;\n",
              "    }\n",
              "\n",
              "    .dataframe tbody tr th {\n",
              "        vertical-align: top;\n",
              "    }\n",
              "\n",
              "    .dataframe thead th {\n",
              "        text-align: right;\n",
              "    }\n",
              "</style>\n",
              "<table border=\"1\" class=\"dataframe\">\n",
              "  <thead>\n",
              "    <tr style=\"text-align: right;\">\n",
              "      <th></th>\n",
              "      <th>age</th>\n",
              "      <th>sex</th>\n",
              "      <th>bmi</th>\n",
              "      <th>children</th>\n",
              "      <th>smoker</th>\n",
              "      <th>region</th>\n",
              "      <th>charges</th>\n",
              "    </tr>\n",
              "  </thead>\n",
              "  <tbody>\n",
              "    <tr>\n",
              "      <th>0</th>\n",
              "      <td>19.0</td>\n",
              "      <td>female</td>\n",
              "      <td>27.900</td>\n",
              "      <td>0.0</td>\n",
              "      <td>yes</td>\n",
              "      <td>southwest</td>\n",
              "      <td>16884.92400</td>\n",
              "    </tr>\n",
              "    <tr>\n",
              "      <th>1</th>\n",
              "      <td>18.0</td>\n",
              "      <td>male</td>\n",
              "      <td>33.770</td>\n",
              "      <td>1.0</td>\n",
              "      <td>no</td>\n",
              "      <td>southeast</td>\n",
              "      <td>1725.55230</td>\n",
              "    </tr>\n",
              "    <tr>\n",
              "      <th>2</th>\n",
              "      <td>28.0</td>\n",
              "      <td>male</td>\n",
              "      <td>33.000</td>\n",
              "      <td>3.0</td>\n",
              "      <td>no</td>\n",
              "      <td>southeast</td>\n",
              "      <td>4449.46200</td>\n",
              "    </tr>\n",
              "    <tr>\n",
              "      <th>3</th>\n",
              "      <td>33.0</td>\n",
              "      <td>male</td>\n",
              "      <td>22.705</td>\n",
              "      <td>0.0</td>\n",
              "      <td>no</td>\n",
              "      <td>northwest</td>\n",
              "      <td>21984.47061</td>\n",
              "    </tr>\n",
              "    <tr>\n",
              "      <th>4</th>\n",
              "      <td>32.0</td>\n",
              "      <td>male</td>\n",
              "      <td>28.880</td>\n",
              "      <td>0.0</td>\n",
              "      <td>no</td>\n",
              "      <td>northwest</td>\n",
              "      <td>3866.85520</td>\n",
              "    </tr>\n",
              "  </tbody>\n",
              "</table>\n",
              "</div>"
            ],
            "text/plain": [
              "    age     sex     bmi  children smoker     region      charges\n",
              "0  19.0  female  27.900       0.0    yes  southwest  16884.92400\n",
              "1  18.0    male  33.770       1.0     no  southeast   1725.55230\n",
              "2  28.0    male  33.000       3.0     no  southeast   4449.46200\n",
              "3  33.0    male  22.705       0.0     no  northwest  21984.47061\n",
              "4  32.0    male  28.880       0.0     no  northwest   3866.85520"
            ]
          },
          "execution_count": 39,
          "metadata": {},
          "output_type": "execute_result"
        }
      ],
      "source": [
        "df.head()"
      ]
    },
    {
      "cell_type": "markdown",
      "id": "2c68f1dc",
      "metadata": {
        "id": "2c68f1dc"
      },
      "source": [
        "## SECTION 1\n",
        "\n",
        "### Analyzing the data types of the features"
      ]
    },
    {
      "cell_type": "code",
      "execution_count": null,
      "id": "6abbf4e5",
      "metadata": {
        "id": "6abbf4e5",
        "outputId": "566bfd3f-c5ef-455f-de71-79990dd2ad87"
      },
      "outputs": [
        {
          "name": "stdout",
          "output_type": "stream",
          "text": [
            "<class 'pandas.core.frame.DataFrame'>\n",
            "RangeIndex: 1339 entries, 0 to 1338\n",
            "Data columns (total 7 columns):\n",
            " #   Column    Non-Null Count  Dtype  \n",
            "---  ------    --------------  -----  \n",
            " 0   age       1333 non-null   float64\n",
            " 1   sex       1338 non-null   object \n",
            " 2   bmi       1338 non-null   float64\n",
            " 3   children  1338 non-null   float64\n",
            " 4   smoker    1338 non-null   object \n",
            " 5   region    1338 non-null   object \n",
            " 6   charges   1338 non-null   float64\n",
            "dtypes: float64(4), object(3)\n",
            "memory usage: 73.4+ KB\n"
          ]
        }
      ],
      "source": [
        "df.info()"
      ]
    },
    {
      "cell_type": "markdown",
      "id": "3ebdef05",
      "metadata": {
        "id": "3ebdef05"
      },
      "source": [
        "The are 7 variables in the data. 4 of them are of float datatype and the other 3 are strings"
      ]
    },
    {
      "cell_type": "markdown",
      "id": "16e985b6",
      "metadata": {
        "id": "16e985b6"
      },
      "source": [
        "### Checking for null values and handling them (if any)"
      ]
    },
    {
      "cell_type": "code",
      "execution_count": null,
      "id": "97ac354a",
      "metadata": {
        "id": "97ac354a",
        "outputId": "6e5e5ac3-4c37-4c00-aa73-eda0121f7cff"
      },
      "outputs": [
        {
          "data": {
            "text/plain": [
              "age         6\n",
              "sex         1\n",
              "bmi         1\n",
              "children    1\n",
              "smoker      1\n",
              "region      1\n",
              "charges     1\n",
              "dtype: int64"
            ]
          },
          "execution_count": 41,
          "metadata": {},
          "output_type": "execute_result"
        }
      ],
      "source": [
        "# Checking for missing values\n",
        "df.isna().sum()"
      ]
    },
    {
      "cell_type": "markdown",
      "id": "f77fbb57",
      "metadata": {
        "id": "f77fbb57"
      },
      "source": [
        "Age had the most number of missing values (6), with the other columns having just one missing value. Since the missing values are not much, records with missing values will be dropped"
      ]
    },
    {
      "cell_type": "code",
      "execution_count": null,
      "id": "eaf7587c",
      "metadata": {
        "id": "eaf7587c"
      },
      "outputs": [],
      "source": [
        "# Dropping all records with missing values\n",
        "df.dropna(inplace=True)"
      ]
    },
    {
      "cell_type": "code",
      "execution_count": null,
      "id": "5b40e1f1",
      "metadata": {
        "id": "5b40e1f1",
        "outputId": "adb2175e-7198-486e-b546-cc80e0d6a4c0"
      },
      "outputs": [
        {
          "data": {
            "text/plain": [
              "age         0\n",
              "sex         0\n",
              "bmi         0\n",
              "children    0\n",
              "smoker      0\n",
              "region      0\n",
              "charges     0\n",
              "dtype: int64"
            ]
          },
          "execution_count": 43,
          "metadata": {},
          "output_type": "execute_result"
        }
      ],
      "source": [
        "# Confirming if all missing vales have been removed\n",
        "df.isna().sum()"
      ]
    },
    {
      "cell_type": "markdown",
      "id": "ca13b819",
      "metadata": {
        "id": "ca13b819"
      },
      "source": [
        "## SECTION 2\n",
        "\n",
        "### Checking for duplicates and removing them (if any)"
      ]
    },
    {
      "cell_type": "code",
      "execution_count": null,
      "id": "5bcb9dfa",
      "metadata": {
        "id": "5bcb9dfa",
        "outputId": "a9dea4e5-f843-4f1b-ed72-f1e971cb7a97"
      },
      "outputs": [
        {
          "data": {
            "text/plain": [
              "1"
            ]
          },
          "execution_count": 44,
          "metadata": {},
          "output_type": "execute_result"
        }
      ],
      "source": [
        "# Checking for duplicate records\n",
        "df.duplicated().sum()"
      ]
    },
    {
      "cell_type": "markdown",
      "id": "d86c36df",
      "metadata": {
        "id": "d86c36df"
      },
      "source": [
        "One duplicate record was found"
      ]
    },
    {
      "cell_type": "code",
      "execution_count": null,
      "id": "3e53c923",
      "metadata": {
        "id": "3e53c923"
      },
      "outputs": [],
      "source": [
        "# Removing the duplicate record\n",
        "df.drop_duplicates(inplace = True)"
      ]
    },
    {
      "cell_type": "code",
      "execution_count": null,
      "id": "63ea8092",
      "metadata": {
        "id": "63ea8092",
        "outputId": "3a72499a-656c-465b-d89d-a382a177bb9e"
      },
      "outputs": [
        {
          "data": {
            "text/plain": [
              "0"
            ]
          },
          "execution_count": 46,
          "metadata": {},
          "output_type": "execute_result"
        }
      ],
      "source": [
        "# Confirming if the duplicate has been removed\n",
        "df.duplicated().sum()"
      ]
    },
    {
      "cell_type": "markdown",
      "id": "c9b0acd0",
      "metadata": {
        "id": "c9b0acd0"
      },
      "source": [
        "### Checking and Removing Outliers(if any)"
      ]
    },
    {
      "cell_type": "code",
      "execution_count": null,
      "id": "d8788873",
      "metadata": {
        "id": "d8788873",
        "outputId": "6e6d66c5-07b9-4f9b-ced2-cf51641ad3d2"
      },
      "outputs": [
        {
          "data": {
            "image/png": "[encoded data removed]",
            "text/plain": [
              "<Figure size 432x288 with 1 Axes>"
            ]
          },
          "metadata": {
            "needs_background": "light"
          },
          "output_type": "display_data"
        },
        {
          "data": {
            "text/plain": [
              "<Figure size 432x288 with 0 Axes>"
            ]
          },
          "metadata": {},
          "output_type": "display_data"
        }
      ],
      "source": [
        "# Checking for outliers\n",
        "sns.boxplot(data=df, x= \"age\")\n",
        "plt.show()\n",
        "plt.clf()"
      ]
    },
    {
      "cell_type": "markdown",
      "id": "568a9449",
      "metadata": {
        "id": "568a9449"
      },
      "source": [
        "There were no outliers for Age"
      ]
    },
    {
      "cell_type": "code",
      "execution_count": null,
      "id": "cf400489",
      "metadata": {
        "id": "cf400489",
        "outputId": "8d54b841-4ac9-4fd3-85bc-91245d362b1a"
      },
      "outputs": [
        {
          "data": {
            "image/png": "[encoded data removed]",
            "text/plain": [
              "<Figure size 432x288 with 1 Axes>"
            ]
          },
          "metadata": {
            "needs_background": "light"
          },
          "output_type": "display_data"
        },
        {
          "data": {
            "text/plain": [
              "<Figure size 432x288 with 0 Axes>"
            ]
          },
          "metadata": {},
          "output_type": "display_data"
        }
      ],
      "source": [
        "# Checking for outliers\n",
        "sns.boxplot(data=df, x= \"bmi\")\n",
        "plt.show()\n",
        "plt.clf()"
      ]
    },
    {
      "cell_type": "markdown",
      "id": "2ca4b1ca",
      "metadata": {
        "id": "2ca4b1ca"
      },
      "source": [
        "Outliers were observed for BMI."
      ]
    },
    {
      "cell_type": "code",
      "execution_count": null,
      "id": "3fde39de",
      "metadata": {
        "id": "3fde39de",
        "outputId": "5010028b-c651-48ca-f4a6-51a9eb3fe38a"
      },
      "outputs": [
        {
          "data": {
            "image/png": "[encoded data removed]",
            "text/plain": [
              "<Figure size 432x288 with 1 Axes>"
            ]
          },
          "metadata": {
            "needs_background": "light"
          },
          "output_type": "display_data"
        },
        {
          "data": {
            "text/plain": [
              "<Figure size 432x288 with 0 Axes>"
            ]
          },
          "metadata": {},
          "output_type": "display_data"
        }
      ],
      "source": [
        "# Checking for outliers\n",
        "sns.boxplot(data=df, x= \"charges\")\n",
        "plt.xlabel(\"Charges\")\n",
        "plt.show()\n",
        "plt.clf()"
      ]
    },
    {
      "cell_type": "markdown",
      "id": "94bbfee4",
      "metadata": {
        "id": "94bbfee4"
      },
      "source": [
        "Outliers were observed for Charges"
      ]
    },
    {
      "cell_type": "code",
      "execution_count": null,
      "id": "6e807d29",
      "metadata": {
        "id": "6e807d29"
      },
      "outputs": [],
      "source": [
        "\"All outliers observed were on above the upper limit for outliers\"\n",
        "\n",
        "# Defining a function for calculating the upper limit for outliers\n",
        "def outlier_upper_limit(asdf):\n",
        "    q = list(asdf.quantile([0.25,0.75]))\n",
        "    z = q[1] + 1.5 * (q[1]-q[0])\n",
        "    return z\n"
      ]
    },
    {
      "cell_type": "code",
      "execution_count": null,
      "id": "8f16f9b2",
      "metadata": {
        "id": "8f16f9b2"
      },
      "outputs": [],
      "source": [
        "# Removing outliers of Charges\n",
        "df2 = df[df[\"charges\"] < outlier_upper_limit(df[\"charges\"])]\n",
        "\n",
        "# Removing outliers of BMI\n",
        "df2 = df2[df2[\"bmi\"] < outlier_upper_limit(df[\"bmi\"])]"
      ]
    },
    {
      "cell_type": "markdown",
      "id": "71fc3e91",
      "metadata": {
        "id": "71fc3e91"
      },
      "source": [
        "### Histogram for Numeric Features"
      ]
    },
    {
      "cell_type": "code",
      "execution_count": null,
      "id": "500c9a0f",
      "metadata": {
        "id": "500c9a0f",
        "outputId": "0378f02b-28c0-4bc4-fbee-6d521ef7c229"
      },
      "outputs": [
        {
          "data": {
            "image/png": "[encoded data removed]",
            "text/plain": [
              "<Figure size 864x432 with 1 Axes>"
            ]
          },
          "metadata": {
            "needs_background": "light"
          },
          "output_type": "display_data"
        }
      ],
      "source": [
        "plt.figure(figsize=(12,6))\n",
        "sns.histplot(df2.age)\n",
        "plt.ylabel(\"Number of Insurace records\")\n",
        "plt.xlabel(\"Age\")\n",
        "plt.title(\"Number of insurace records\")\n",
        "plt.show()"
      ]
    },
    {
      "cell_type": "code",
      "execution_count": null,
      "id": "440009f5",
      "metadata": {
        "id": "440009f5",
        "outputId": "00550809-df37-42d9-e8e2-fe2a16fe06cf"
      },
      "outputs": [
        {
          "data": {
            "image/png": "[encoded data removed]",
            "text/plain": [
              "<Figure size 864x432 with 1 Axes>"
            ]
          },
          "metadata": {
            "needs_background": "light"
          },
          "output_type": "display_data"
        }
      ],
      "source": [
        "plt.figure(figsize=(12,6))\n",
        "sns.histplot(df2.bmi)\n",
        "plt.ylabel(\"Number of Insurace records\")\n",
        "plt.xlabel(\"BMI\")\n",
        "plt.title(\"Number of insurace records\")\n",
        "plt.show()"
      ]
    },
    {
      "cell_type": "code",
      "execution_count": null,
      "id": "1b91ce75",
      "metadata": {
        "id": "1b91ce75",
        "outputId": "ade529ab-77d1-41c4-dcbf-59c49496ced7"
      },
      "outputs": [
        {
          "data": {
            "image/png": "[encoded data removed]",
            "text/plain": [
              "<Figure size 864x432 with 1 Axes>"
            ]
          },
          "metadata": {
            "needs_background": "light"
          },
          "output_type": "display_data"
        }
      ],
      "source": [
        "plt.figure(figsize=(12,6))\n",
        "sns.histplot(df2.charges)\n",
        "plt.ylabel(\"Number of Insurace records\")\n",
        "plt.xlabel(\"Charges\")\n",
        "plt.title(\"Number of insurace records\")\n",
        "plt.show()"
      ]
    },
    {
      "cell_type": "code",
      "execution_count": null,
      "id": "ba616f2d",
      "metadata": {
        "id": "ba616f2d",
        "outputId": "11a74e60-eee9-47e3-917b-3b011711ccdf"
      },
      "outputs": [
        {
          "data": {
            "image/png": "[encoded data removed]",
            "text/plain": [
              "<Figure size 864x432 with 1 Axes>"
            ]
          },
          "metadata": {
            "needs_background": "light"
          },
          "output_type": "display_data"
        }
      ],
      "source": [
        "plt.figure(figsize=(12,6))\n",
        "sns.histplot(df2.children)\n",
        "plt.ylabel(\"Number of Insurace records\")\n",
        "plt.xlabel(\"Children\")\n",
        "plt.title(\"Number of insurace records\")\n",
        "plt.show()"
      ]
    },
    {
      "cell_type": "markdown",
      "id": "4f408df5",
      "metadata": {
        "id": "4f408df5"
      },
      "source": [
        "### Countplot for Categorical features"
      ]
    },
    {
      "cell_type": "code",
      "execution_count": null,
      "id": "25a3a3aa",
      "metadata": {
        "id": "25a3a3aa",
        "outputId": "e1b0fdfc-0646-4fae-fc49-c2b5daf77400"
      },
      "outputs": [
        {
          "data": {
            "image/png": "[encoded data removed]",
            "text/plain": [
              "<Figure size 432x360 with 1 Axes>"
            ]
          },
          "metadata": {
            "needs_background": "light"
          },
          "output_type": "display_data"
        }
      ],
      "source": [
        "plt.figure(figsize=(6,5))\n",
        "sns.countplot(data=df2, x=\"sex\")\n",
        "plt.title(\"Insurance records for each gender\")\n",
        "plt.xlabel(\"Sex\")\n",
        "plt.ylabel(\"Number of Insurance records\")\n",
        "plt.show()"
      ]
    },
    {
      "cell_type": "code",
      "execution_count": null,
      "id": "60c31600",
      "metadata": {
        "id": "60c31600",
        "outputId": "05cf98f0-edb9-4acb-da15-29a3a47ef5eb"
      },
      "outputs": [
        {
          "data": {
            "image/png": "[encoded data removed]",
            "text/plain": [
              "<Figure size 432x360 with 1 Axes>"
            ]
          },
          "metadata": {
            "needs_background": "light"
          },
          "output_type": "display_data"
        }
      ],
      "source": [
        "plt.figure(figsize=(6,5))\n",
        "sns.countplot(data=df2, x=\"smoker\")\n",
        "plt.title(\"Number of people who smoke\")\n",
        "plt.xlabel(\"Smoker\")\n",
        "plt.ylabel(\"Number of people who smoke\")\n",
        "plt.show()"
      ]
    },
    {
      "cell_type": "code",
      "execution_count": null,
      "id": "abc908e7",
      "metadata": {
        "id": "abc908e7",
        "outputId": "e4ee2fae-20b9-447b-9399-2e2a46f6c92e"
      },
      "outputs": [
        {
          "data": {
            "image/png": "[encoded data removed]",
            "text/plain": [
              "<Figure size 432x360 with 1 Axes>"
            ]
          },
          "metadata": {
            "needs_background": "light"
          },
          "output_type": "display_data"
        }
      ],
      "source": [
        "plt.figure(figsize=(6,5))\n",
        "sns.countplot(data=df2, x=\"region\")\n",
        "plt.title(\"Insurance records in each region\")\n",
        "plt.xlabel(\"Region\")\n",
        "plt.ylabel(\"Number of Insurance records\")\n",
        "plt.show()"
      ]
    },
    {
      "cell_type": "markdown",
      "id": "6245bcc1",
      "metadata": {
        "id": "6245bcc1"
      },
      "source": [
        "## SECTION 3\n",
        "\n",
        "### Skewness for Numerical variables"
      ]
    },
    {
      "cell_type": "code",
      "execution_count": null,
      "id": "fc6ba6a6",
      "metadata": {
        "id": "fc6ba6a6"
      },
      "outputs": [],
      "source": [
        "from scipy.stats import skew\n",
        "\n",
        "# Defining a function that calculates skewness\n",
        "def skewness(variable):\n",
        "    print(f\" The Skewness of {variable} is {skew(df2[variable], bias = True)}\")"
      ]
    },
    {
      "cell_type": "code",
      "execution_count": null,
      "id": "58ee4df6",
      "metadata": {
        "id": "58ee4df6",
        "outputId": "7b3edbad-a575-4937-e600-73c6eceaffde"
      },
      "outputs": [
        {
          "data": {
            "image/png": "[encoded data removed]",
            "text/plain": [
              "<Figure size 432x288 with 1 Axes>"
            ]
          },
          "metadata": {
            "needs_background": "light"
          },
          "output_type": "display_data"
        },
        {
          "name": "stdout",
          "output_type": "stream",
          "text": [
            " The Skewness of age is 0.06794045129128948\n"
          ]
        }
      ],
      "source": [
        "sns.kdeplot(data=df2, x=\"age\")\n",
        "plt.show()\n",
        "skewness(\"age\")"
      ]
    },
    {
      "cell_type": "code",
      "execution_count": null,
      "id": "8c5949b5",
      "metadata": {
        "id": "8c5949b5",
        "outputId": "42dac698-a1a3-47a5-d1c6-9ac49d266c7e"
      },
      "outputs": [
        {
          "data": {
            "image/png": "[encoded data removed]",
            "text/plain": [
              "<Figure size 432x288 with 1 Axes>"
            ]
          },
          "metadata": {
            "needs_background": "light"
          },
          "output_type": "display_data"
        },
        {
          "name": "stdout",
          "output_type": "stream",
          "text": [
            " The Skewness of charges is 1.170081563830796\n"
          ]
        }
      ],
      "source": [
        "sns.kdeplot(data=df2, x=\"charges\")\n",
        "plt.show()\n",
        "skewness(\"charges\")"
      ]
    },
    {
      "cell_type": "code",
      "execution_count": null,
      "id": "b1e53c24",
      "metadata": {
        "id": "b1e53c24",
        "outputId": "71dfdb4a-19c0-4814-fa5b-c64e2f9c8352"
      },
      "outputs": [
        {
          "data": {
            "image/png": "[encoded data removed]",
            "text/plain": [
              "<Figure size 432x288 with 1 Axes>"
            ]
          },
          "metadata": {
            "needs_background": "light"
          },
          "output_type": "display_data"
        },
        {
          "name": "stdout",
          "output_type": "stream",
          "text": [
            " The Skewness of bmi is 0.25641560679428543\n"
          ]
        }
      ],
      "source": [
        "sns.kdeplot(data=df2, x=\"bmi\")\n",
        "plt.show()\n",
        "skewness(\"bmi\")"
      ]
    },
    {
      "cell_type": "code",
      "execution_count": null,
      "id": "58973d6d",
      "metadata": {
        "id": "58973d6d",
        "outputId": "55505268-9704-467d-a92e-02761fee15cb"
      },
      "outputs": [
        {
          "data": {
            "image/png": "[encoded data removed]",
            "text/plain": [
              "<Figure size 432x288 with 1 Axes>"
            ]
          },
          "metadata": {
            "needs_background": "light"
          },
          "output_type": "display_data"
        },
        {
          "name": "stdout",
          "output_type": "stream",
          "text": [
            " The Skewness of children is 0.9700375083900552\n"
          ]
        }
      ],
      "source": [
        "sns.kdeplot(data=df2, x=\"children\")\n",
        "plt.show()\n",
        "skewness(\"children\")"
      ]
    },
    {
      "cell_type": "markdown",
      "id": "7984e172",
      "metadata": {
        "id": "7984e172"
      },
      "source": [
        "### Correlation between numerical variables shown by a heat map"
      ]
    },
    {
      "cell_type": "code",
      "execution_count": null,
      "id": "62126d79",
      "metadata": {
        "id": "62126d79",
        "outputId": "abd5030d-b3d7-46fa-d5e2-27e6033a8e08"
      },
      "outputs": [
        {
          "data": {
            "image/png": "[encoded data removed]",
            "text/plain": [
              "<Figure size 576x432 with 2 Axes>"
            ]
          },
          "metadata": {
            "needs_background": "light"
          },
          "output_type": "display_data"
        }
      ],
      "source": [
        "# Plotting the Correlation between numerical variables\n",
        "plt.figure(figsize=(8,6))\n",
        "sns.heatmap(data=df2.corr(), annot=True,\n",
        "                center=0,\n",
        "                cmap='viridis',\n",
        "                square = True,\n",
        "                linewidth = 0.1,\n",
        "                linecolor = \"#222\")\n",
        "plt.title(\"Linear Correlation between Age, Children, BMI and Charges\")\n",
        "plt.show()"
      ]
    },
    {
      "cell_type": "markdown",
      "id": "0ca66b4a",
      "metadata": {
        "id": "0ca66b4a"
      },
      "source": [
        "Only age has a strong positive correlation with Charges. Children and BMI have no linear relationship with neither Charges, Age nor with each other."
      ]
    },
    {
      "cell_type": "markdown",
      "id": "64af076d",
      "metadata": {
        "id": "64af076d"
      },
      "source": [
        "### Scatter plot showing the relationship between Age, Charges and Smoker"
      ]
    },
    {
      "cell_type": "code",
      "execution_count": null,
      "id": "b569e63e",
      "metadata": {
        "id": "b569e63e",
        "outputId": "c95116bd-4195-44ac-fae7-cd4d01df8bb0"
      },
      "outputs": [
        {
          "data": {
            "image/png": "[encoded data removed]",
            "text/plain": [
              "<Figure size 576x432 with 1 Axes>"
            ]
          },
          "metadata": {
            "needs_background": "light"
          },
          "output_type": "display_data"
        }
      ],
      "source": [
        "# PLOTTING THE RELATIONSHIP BETWEEN BMI, AGE AND SEX\n",
        "plt.figure(figsize=(8,6))\n",
        "ax = sns.scatterplot(data=df2, x=\"age\", y=\"charges\", hue=\"smoker\")\n",
        "ax.set_title(\"Relationship between Age, Charges and Smoker\")\n",
        "ax.set_xlabel(\"Age\")\n",
        "ax.set_ylabel(\"Charges\")\n",
        "plt.show()"
      ]
    },
    {
      "cell_type": "markdown",
      "id": "68c06b3e",
      "metadata": {
        "id": "68c06b3e"
      },
      "source": [
        "There is Positive correlation between Age and Charges. It can also be observed that non-smokers have lower charges, While smokers have a relatively higher Charges."
      ]
    },
    {
      "cell_type": "markdown",
      "id": "15595072",
      "metadata": {
        "id": "15595072"
      },
      "source": [
        "### Applying Scaling method on Age, BMI and Children"
      ]
    },
    {
      "cell_type": "code",
      "execution_count": null,
      "id": "f2187778",
      "metadata": {
        "id": "f2187778",
        "outputId": "234157e8-5092-494d-9bf1-f87391d1ca3a"
      },
      "outputs": [
        {
          "data": {
            "text/html": [
              "<div>\n",
              "<style scoped>\n",
              "    .dataframe tbody tr th:only-of-type {\n",
              "        vertical-align: middle;\n",
              "    }\n",
              "\n",
              "    .dataframe tbody tr th {\n",
              "        vertical-align: top;\n",
              "    }\n",
              "\n",
              "    .dataframe thead th {\n",
              "        text-align: right;\n",
              "    }\n",
              "</style>\n",
              "<table border=\"1\" class=\"dataframe\">\n",
              "  <thead>\n",
              "    <tr style=\"text-align: right;\">\n",
              "      <th></th>\n",
              "      <th>age</th>\n",
              "      <th>bmi</th>\n",
              "      <th>children</th>\n",
              "    </tr>\n",
              "  </thead>\n",
              "  <tbody>\n",
              "    <tr>\n",
              "      <th>0</th>\n",
              "      <td>0.021739</td>\n",
              "      <td>0.387788</td>\n",
              "      <td>0.0</td>\n",
              "    </tr>\n",
              "    <tr>\n",
              "      <th>1</th>\n",
              "      <td>0.000000</td>\n",
              "      <td>0.578435</td>\n",
              "      <td>0.2</td>\n",
              "    </tr>\n",
              "    <tr>\n",
              "      <th>2</th>\n",
              "      <td>0.217391</td>\n",
              "      <td>0.553426</td>\n",
              "      <td>0.6</td>\n",
              "    </tr>\n",
              "    <tr>\n",
              "      <th>3</th>\n",
              "      <td>0.326087</td>\n",
              "      <td>0.219065</td>\n",
              "      <td>0.0</td>\n",
              "    </tr>\n",
              "    <tr>\n",
              "      <th>4</th>\n",
              "      <td>0.304348</td>\n",
              "      <td>0.419617</td>\n",
              "      <td>0.0</td>\n",
              "    </tr>\n",
              "  </tbody>\n",
              "</table>\n",
              "</div>"
            ],
            "text/plain": [
              "        age       bmi  children\n",
              "0  0.021739  0.387788       0.0\n",
              "1  0.000000  0.578435       0.2\n",
              "2  0.217391  0.553426       0.6\n",
              "3  0.326087  0.219065       0.0\n",
              "4  0.304348  0.419617       0.0"
            ]
          },
          "execution_count": 25,
          "metadata": {},
          "output_type": "execute_result"
        }
      ],
      "source": [
        "# SELECTING AGE, BMI AND CHILDREN AS INDEPENDENT VARIABLES\n",
        "df3 = df2[[\"age\", \"bmi\", \"children\"]]\n",
        "\n",
        "# IMPORTING A LIBRARY TO SCALE THE SELECTED FEATURES\n",
        "from sklearn.preprocessing import MinMaxScaler\n",
        "scaler = MinMaxScaler()\n",
        "\n",
        "# SCALING THE FEARTURES AND STORING THEM IN A DATAFRAME\n",
        "scaled_independent_vaiables_df = pd.DataFrame(scaler.fit_transform(df3), columns = df3.columns)\n",
        "\n",
        "scaled_independent_vaiables_df.head()"
      ]
    },
    {
      "cell_type": "markdown",
      "id": "3a89bc92",
      "metadata": {
        "id": "3a89bc92"
      },
      "source": [
        "## SECTION 4\n",
        "\n",
        "### Encoding categorical variables"
      ]
    },
    {
      "cell_type": "code",
      "execution_count": null,
      "id": "d23fb3ca",
      "metadata": {
        "id": "d23fb3ca"
      },
      "outputs": [],
      "source": [
        "# using cat.codes to encode the categorical variables\n",
        "df2[[\"sex\", \"smoker\", \"region\"]] = df2[[\"sex\", \"smoker\", \"region\"]].astype(\"category\")\n",
        "df2[\"sex\"] = df2[\"sex\"].cat.codes\n",
        "df2[\"smoker\"] = df2[\"smoker\"].cat.codes\n",
        "df2[\"region\"] = df2[\"region\"].cat.codes"
      ]
    },
    {
      "cell_type": "code",
      "execution_count": null,
      "id": "98a07841",
      "metadata": {
        "id": "98a07841"
      },
      "outputs": [],
      "source": [
        "# Identifying the codes and their corresponding value\n",
        "df5 = df.copy()\n",
        "df5[[\"sex\", \"smoker\", \"region\"]] = df5[[\"sex\", \"smoker\", \"region\"]].astype('category')\n",
        "SEX  = dict(enumerate(df5[\"sex\"].cat.categories))\n",
        "SMOKER = dict(enumerate(df5[\"smoker\"].cat.categories))\n",
        "REGION  = dict(enumerate(df5[\"region\"].cat.categories))"
      ]
    },
    {
      "cell_type": "code",
      "execution_count": null,
      "id": "e72834d6",
      "metadata": {
        "id": "e72834d6",
        "outputId": "ec1d144a-908d-476c-886d-a17f0f1c742d"
      },
      "outputs": [
        {
          "data": {
            "text/plain": [
              "{0: 'female', 1: 'male'}"
            ]
          },
          "execution_count": 28,
          "metadata": {},
          "output_type": "execute_result"
        }
      ],
      "source": [
        "SEX"
      ]
    },
    {
      "cell_type": "code",
      "execution_count": null,
      "id": "a9c16d50",
      "metadata": {
        "id": "a9c16d50",
        "outputId": "bc7077b4-4b57-4cba-93bc-d783932f27e9"
      },
      "outputs": [
        {
          "data": {
            "text/plain": [
              "{0: 'no', 1: 'yes'}"
            ]
          },
          "execution_count": 29,
          "metadata": {},
          "output_type": "execute_result"
        }
      ],
      "source": [
        "SMOKER"
      ]
    },
    {
      "cell_type": "code",
      "execution_count": null,
      "id": "dcd89c45",
      "metadata": {
        "id": "dcd89c45",
        "outputId": "b73e7cba-5c30-4c87-c9a1-071651b2a1a4"
      },
      "outputs": [
        {
          "data": {
            "text/plain": [
              "{0: 'northeast', 1: 'northwest', 2: 'southeast', 3: 'southwest'}"
            ]
          },
          "execution_count": 30,
          "metadata": {},
          "output_type": "execute_result"
        }
      ],
      "source": [
        "REGION"
      ]
    },
    {
      "cell_type": "markdown",
      "id": "890ef836",
      "metadata": {
        "id": "890ef836"
      },
      "source": [
        "## SECTION 5\n",
        "\n",
        "### Feature Selection using ANOVA selection method"
      ]
    },
    {
      "cell_type": "code",
      "execution_count": null,
      "id": "b09fa961",
      "metadata": {
        "id": "b09fa961",
        "outputId": "b70d302b-4809-46d5-d244-2474e2a2c08d"
      },
      "outputs": [
        {
          "data": {
            "text/html": [
              "<div>\n",
              "<style scoped>\n",
              "    .dataframe tbody tr th:only-of-type {\n",
              "        vertical-align: middle;\n",
              "    }\n",
              "\n",
              "    .dataframe tbody tr th {\n",
              "        vertical-align: top;\n",
              "    }\n",
              "\n",
              "    .dataframe thead th {\n",
              "        text-align: right;\n",
              "    }\n",
              "</style>\n",
              "<table border=\"1\" class=\"dataframe\">\n",
              "  <thead>\n",
              "    <tr style=\"text-align: right;\">\n",
              "      <th></th>\n",
              "      <th>age</th>\n",
              "      <th>sex</th>\n",
              "      <th>bmi</th>\n",
              "      <th>children</th>\n",
              "      <th>smoker</th>\n",
              "      <th>region</th>\n",
              "      <th>charges</th>\n",
              "    </tr>\n",
              "  </thead>\n",
              "  <tbody>\n",
              "    <tr>\n",
              "      <th>0</th>\n",
              "      <td>19.0</td>\n",
              "      <td>0</td>\n",
              "      <td>27.900</td>\n",
              "      <td>0.0</td>\n",
              "      <td>1</td>\n",
              "      <td>3</td>\n",
              "      <td>16884.92400</td>\n",
              "    </tr>\n",
              "    <tr>\n",
              "      <th>1</th>\n",
              "      <td>18.0</td>\n",
              "      <td>1</td>\n",
              "      <td>33.770</td>\n",
              "      <td>1.0</td>\n",
              "      <td>0</td>\n",
              "      <td>2</td>\n",
              "      <td>1725.55230</td>\n",
              "    </tr>\n",
              "    <tr>\n",
              "      <th>2</th>\n",
              "      <td>28.0</td>\n",
              "      <td>1</td>\n",
              "      <td>33.000</td>\n",
              "      <td>3.0</td>\n",
              "      <td>0</td>\n",
              "      <td>2</td>\n",
              "      <td>4449.46200</td>\n",
              "    </tr>\n",
              "    <tr>\n",
              "      <th>3</th>\n",
              "      <td>33.0</td>\n",
              "      <td>1</td>\n",
              "      <td>22.705</td>\n",
              "      <td>0.0</td>\n",
              "      <td>0</td>\n",
              "      <td>1</td>\n",
              "      <td>21984.47061</td>\n",
              "    </tr>\n",
              "    <tr>\n",
              "      <th>4</th>\n",
              "      <td>32.0</td>\n",
              "      <td>1</td>\n",
              "      <td>28.880</td>\n",
              "      <td>0.0</td>\n",
              "      <td>0</td>\n",
              "      <td>1</td>\n",
              "      <td>3866.85520</td>\n",
              "    </tr>\n",
              "  </tbody>\n",
              "</table>\n",
              "</div>"
            ],
            "text/plain": [
              "    age  sex     bmi  children  smoker  region      charges\n",
              "0  19.0    0  27.900       0.0       1       3  16884.92400\n",
              "1  18.0    1  33.770       1.0       0       2   1725.55230\n",
              "2  28.0    1  33.000       3.0       0       2   4449.46200\n",
              "3  33.0    1  22.705       0.0       0       1  21984.47061\n",
              "4  32.0    1  28.880       0.0       0       1   3866.85520"
            ]
          },
          "execution_count": 31,
          "metadata": {},
          "output_type": "execute_result"
        }
      ],
      "source": [
        "df2.head()"
      ]
    },
    {
      "cell_type": "code",
      "execution_count": null,
      "id": "2818ae28",
      "metadata": {
        "id": "2818ae28"
      },
      "outputs": [],
      "source": [
        "# Subsetting the Target Variable\n",
        "target_variable = df2[\"charges\"]\n",
        "\n",
        "# Subsetting the other variables Bar Charges\n",
        "predictor_variable= df2.drop([\"charges\"], axis=1)\n",
        "\n",
        "# Using ANOVA Method to select features\n",
        "# Importing the libraries need for the feature selection\n",
        "from sklearn.feature_selection import f_regression, SelectKBest\n",
        "\n",
        "# Using SelectKBest to pick the best 4 features\n",
        "ads = SelectKBest(score_func=f_regression, k=4)\n",
        "\n",
        "# Determining the F1 Scores\n",
        "asd_fit = ads.fit(predictor_variable,target_variable)"
      ]
    },
    {
      "cell_type": "code",
      "execution_count": null,
      "id": "45235347",
      "metadata": {
        "id": "45235347"
      },
      "outputs": [],
      "source": [
        "# Saving the F1 Scores in a DataFrame\n",
        "features_score = pd.DataFrame(asd_fit.scores_)\n",
        "features = pd.DataFrame(predictor_variable.columns)\n",
        "Feature_score = pd.concat([features, features_score], axis=1)\n",
        "Feature_score.columns = [\"Features\", \"F_Score\"]"
      ]
    },
    {
      "cell_type": "code",
      "execution_count": null,
      "id": "268613da",
      "metadata": {
        "id": "268613da",
        "outputId": "00338c19-37c0-444d-cc81-762d7d3ea8e2"
      },
      "outputs": [
        {
          "data": {
            "text/html": [
              "<div>\n",
              "<style scoped>\n",
              "    .dataframe tbody tr th:only-of-type {\n",
              "        vertical-align: middle;\n",
              "    }\n",
              "\n",
              "    .dataframe tbody tr th {\n",
              "        vertical-align: top;\n",
              "    }\n",
              "\n",
              "    .dataframe thead th {\n",
              "        text-align: right;\n",
              "    }\n",
              "</style>\n",
              "<table border=\"1\" class=\"dataframe\">\n",
              "  <thead>\n",
              "    <tr style=\"text-align: right;\">\n",
              "      <th></th>\n",
              "      <th>Features</th>\n",
              "      <th>F_Score</th>\n",
              "    </tr>\n",
              "  </thead>\n",
              "  <tbody>\n",
              "    <tr>\n",
              "      <th>4</th>\n",
              "      <td>smoker</td>\n",
              "      <td>653.933074</td>\n",
              "    </tr>\n",
              "    <tr>\n",
              "      <th>0</th>\n",
              "      <td>age</td>\n",
              "      <td>288.155322</td>\n",
              "    </tr>\n",
              "    <tr>\n",
              "      <th>5</th>\n",
              "      <td>region</td>\n",
              "      <td>10.134834</td>\n",
              "    </tr>\n",
              "    <tr>\n",
              "      <th>3</th>\n",
              "      <td>children</td>\n",
              "      <td>8.686580</td>\n",
              "    </tr>\n",
              "    <tr>\n",
              "      <th>2</th>\n",
              "      <td>bmi</td>\n",
              "      <td>4.622401</td>\n",
              "    </tr>\n",
              "    <tr>\n",
              "      <th>1</th>\n",
              "      <td>sex</td>\n",
              "      <td>0.739699</td>\n",
              "    </tr>\n",
              "  </tbody>\n",
              "</table>\n",
              "</div>"
            ],
            "text/plain": [
              "   Features     F_Score\n",
              "4    smoker  653.933074\n",
              "0       age  288.155322\n",
              "5    region   10.134834\n",
              "3  children    8.686580\n",
              "2       bmi    4.622401\n",
              "1       sex    0.739699"
            ]
          },
          "execution_count": 34,
          "metadata": {},
          "output_type": "execute_result"
        }
      ],
      "source": [
        "Feature_score.sort_values(by=\"F_Score\", ascending= False)"
      ]
    },
    {
      "cell_type": "markdown",
      "id": "97ecdd8e",
      "metadata": {
        "id": "97ecdd8e"
      },
      "source": [
        "The best 4 features are smoker, Age, region and Children. Hence BMI and Sex will be dropped."
      ]
    },
    {
      "cell_type": "code",
      "execution_count": null,
      "id": "5d20e753",
      "metadata": {
        "id": "5d20e753"
      },
      "outputs": [],
      "source": [
        "_4_features_and_regressor_variable = df2.drop([\"bmi\", \"sex\"], axis=1)"
      ]
    },
    {
      "cell_type": "code",
      "execution_count": null,
      "id": "f498dad9",
      "metadata": {
        "id": "f498dad9",
        "outputId": "fbd6375d-a99c-4ddc-8265-96d4c3a3e83d"
      },
      "outputs": [
        {
          "data": {
            "text/html": [
              "<div>\n",
              "<style scoped>\n",
              "    .dataframe tbody tr th:only-of-type {\n",
              "        vertical-align: middle;\n",
              "    }\n",
              "\n",
              "    .dataframe tbody tr th {\n",
              "        vertical-align: top;\n",
              "    }\n",
              "\n",
              "    .dataframe thead th {\n",
              "        text-align: right;\n",
              "    }\n",
              "</style>\n",
              "<table border=\"1\" class=\"dataframe\">\n",
              "  <thead>\n",
              "    <tr style=\"text-align: right;\">\n",
              "      <th></th>\n",
              "      <th>age</th>\n",
              "      <th>children</th>\n",
              "      <th>smoker</th>\n",
              "      <th>region</th>\n",
              "      <th>charges</th>\n",
              "    </tr>\n",
              "  </thead>\n",
              "  <tbody>\n",
              "    <tr>\n",
              "      <th>0</th>\n",
              "      <td>19.0</td>\n",
              "      <td>0.0</td>\n",
              "      <td>1</td>\n",
              "      <td>3</td>\n",
              "      <td>16884.92400</td>\n",
              "    </tr>\n",
              "    <tr>\n",
              "      <th>1</th>\n",
              "      <td>18.0</td>\n",
              "      <td>1.0</td>\n",
              "      <td>0</td>\n",
              "      <td>2</td>\n",
              "      <td>1725.55230</td>\n",
              "    </tr>\n",
              "    <tr>\n",
              "      <th>2</th>\n",
              "      <td>28.0</td>\n",
              "      <td>3.0</td>\n",
              "      <td>0</td>\n",
              "      <td>2</td>\n",
              "      <td>4449.46200</td>\n",
              "    </tr>\n",
              "    <tr>\n",
              "      <th>3</th>\n",
              "      <td>33.0</td>\n",
              "      <td>0.0</td>\n",
              "      <td>0</td>\n",
              "      <td>1</td>\n",
              "      <td>21984.47061</td>\n",
              "    </tr>\n",
              "    <tr>\n",
              "      <th>4</th>\n",
              "      <td>32.0</td>\n",
              "      <td>0.0</td>\n",
              "      <td>0</td>\n",
              "      <td>1</td>\n",
              "      <td>3866.85520</td>\n",
              "    </tr>\n",
              "  </tbody>\n",
              "</table>\n",
              "</div>"
            ],
            "text/plain": [
              "    age  children  smoker  region      charges\n",
              "0  19.0       0.0       1       3  16884.92400\n",
              "1  18.0       1.0       0       2   1725.55230\n",
              "2  28.0       3.0       0       2   4449.46200\n",
              "3  33.0       0.0       0       1  21984.47061\n",
              "4  32.0       0.0       0       1   3866.85520"
            ]
          },
          "execution_count": 36,
          "metadata": {},
          "output_type": "execute_result"
        }
      ],
      "source": [
        "_4_features_and_regressor_variable.head()"
      ]
    },
    {
      "cell_type": "code",
      "execution_count": null,
      "id": "1470fb64",
      "metadata": {
        "id": "1470fb64"
      },
      "outputs": [],
      "source": []
    }
  ],
  "metadata": {
    "kernelspec": {
      "display_name": "Python 3 (ipykernel)",
      "language": "python",
      "name": "python3"
    },
    "language_info": {
      "codemirror_mode": {
        "name": "ipython",
        "version": 3
      },
      "file_extension": ".py",
      "mimetype": "text/x-python",
      "name": "python",
      "nbconvert_exporter": "python",
      "pygments_lexer": "ipython3",
      "version": "3.9.7"
    },
    "colab": {
      "provenance": [],
      "include_colab_link": true
    }
  },
  "nbformat": 4,
  "nbformat_minor": 5
}